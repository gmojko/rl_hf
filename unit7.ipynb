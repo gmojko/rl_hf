{
  "nbformat": 4,
  "nbformat_minor": 0,
  "metadata": {
    "colab": {
      "provenance": [],
      "collapsed_sections": [
        "0cGhlj8zHk8X"
      ],
      "include_colab_link": true
    },
    "kernelspec": {
      "name": "python3",
      "display_name": "Python 3"
    },
    "language_info": {
      "name": "python"
    },
    "accelerator": "GPU",
    "gpuClass": "standard"
  },
  "cells": [
    {
      "cell_type": "markdown",
      "metadata": {
        "id": "view-in-github",
        "colab_type": "text"
      },
      "source": [
        "<a href=\"https://colab.research.google.com/github/gmojko/rl_hf/blob/main/unit7.ipynb\" target=\"_parent\"><img src=\"https://colab.research.google.com/assets/colab-badge.svg\" alt=\"Open In Colab\"/></a>"
      ]
    },
    {
      "cell_type": "markdown",
      "source": [
        "## Upgrade to python 3.9"
      ],
      "metadata": {
        "id": "0cGhlj8zHk8X"
      }
    },
    {
      "cell_type": "code",
      "source": [
        "from google.colab import drive\n",
        "drive.mount('/content/gdrive')"
      ],
      "metadata": {
        "colab": {
          "base_uri": "https://localhost:8080/"
        },
        "id": "6GK-lrX0JwNQ",
        "outputId": "c71b4f30-f4b0-4009-82c7-36fd62100528"
      },
      "execution_count": 4,
      "outputs": [
        {
          "output_type": "stream",
          "name": "stdout",
          "text": [
            "Mounted at /content/gdrive\n"
          ]
        }
      ]
    },
    {
      "cell_type": "code",
      "source": [
        "cd /content/gdrive/MyDrive/rl/"
      ],
      "metadata": {
        "colab": {
          "base_uri": "https://localhost:8080/"
        },
        "id": "og3nuNEJJ6Ep",
        "outputId": "e03ab645-1c26-4540-d447-3a73885ee001"
      },
      "execution_count": 14,
      "outputs": [
        {
          "output_type": "stream",
          "name": "stdout",
          "text": [
            "/content/gdrive/MyDrive/rl\n"
          ]
        }
      ]
    },
    {
      "cell_type": "code",
      "source": [
        "ls"
      ],
      "metadata": {
        "id": "KflHsh7lKIdW"
      },
      "execution_count": 15,
      "outputs": []
    },
    {
      "cell_type": "code",
      "source": [
        "!pip install -q condacolab\n",
        "import condacolab\n",
        "condacolab.install()"
      ],
      "metadata": {
        "colab": {
          "base_uri": "https://localhost:8080/"
        },
        "id": "sKgOhsQeNzyp",
        "outputId": "a3d77e6f-2889-44a4-c772-2fbf5f8c46a5"
      },
      "execution_count": 1,
      "outputs": [
        {
          "output_type": "stream",
          "name": "stdout",
          "text": [
            "\u001b[33mWARNING: Running pip as the 'root' user can result in broken permissions and conflicting behaviour with the system package manager. It is recommended to use a virtual environment instead: https://pip.pypa.io/warnings/venv\u001b[0m\u001b[33m\n",
            "\u001b[0m✨🍰✨ Everything looks OK!\n"
          ]
        }
      ]
    },
    {
      "cell_type": "code",
      "source": [
        "!conda create --name rl python=3.9\n",
        "!conda activate rl"
      ],
      "metadata": {
        "colab": {
          "base_uri": "https://localhost:8080/"
        },
        "id": "l5fKtO8MNpnE",
        "outputId": "7d1f14fd-957f-4a2e-e7f0-0e751f058935"
      },
      "execution_count": 16,
      "outputs": [
        {
          "output_type": "stream",
          "name": "stdout",
          "text": [
            "Collecting package metadata (current_repodata.json): - \b\b\\ \b\b| \b\b/ \b\b- \b\b\\ \b\b| \b\b/ \b\b- \b\b\\ \b\b| \b\b/ \b\b- \b\b\\ \b\b| \b\b/ \b\b- \b\b\\ \b\b| \b\b/ \b\b- \b\b\\ \b\b| \b\b/ \b\bdone\n",
            "Solving environment: \\ \b\b| \b\b/ \b\bdone\n",
            "\n",
            "\n",
            "==> WARNING: A newer version of conda exists. <==\n",
            "  current version: 22.9.0\n",
            "  latest version: 23.1.0\n",
            "\n",
            "Please update conda by running\n",
            "\n",
            "    $ conda update -n base -c conda-forge conda\n",
            "\n",
            "\n",
            "\n",
            "## Package Plan ##\n",
            "\n",
            "  environment location: /usr/local/envs/rl\n",
            "\n",
            "  added / updated specs:\n",
            "    - python=3.9\n",
            "\n",
            "\n",
            "The following NEW packages will be INSTALLED:\n",
            "\n",
            "  _libgcc_mutex      conda-forge/linux-64::_libgcc_mutex-0.1-conda_forge None\n",
            "  _openmp_mutex      conda-forge/linux-64::_openmp_mutex-4.5-2_gnu None\n",
            "  bzip2              conda-forge/linux-64::bzip2-1.0.8-h7f98852_4 None\n",
            "  ca-certificates    conda-forge/linux-64::ca-certificates-2022.12.7-ha878542_0 None\n",
            "  ld_impl_linux-64   conda-forge/linux-64::ld_impl_linux-64-2.40-h41732ed_0 None\n",
            "  libffi             conda-forge/linux-64::libffi-3.4.2-h7f98852_5 None\n",
            "  libgcc-ng          conda-forge/linux-64::libgcc-ng-12.2.0-h65d4601_19 None\n",
            "  libgomp            conda-forge/linux-64::libgomp-12.2.0-h65d4601_19 None\n",
            "  libnsl             conda-forge/linux-64::libnsl-2.0.0-h7f98852_0 None\n",
            "  libsqlite          conda-forge/linux-64::libsqlite-3.40.0-h753d276_0 None\n",
            "  libuuid            conda-forge/linux-64::libuuid-2.32.1-h7f98852_1000 None\n",
            "  libzlib            conda-forge/linux-64::libzlib-1.2.13-h166bdaf_4 None\n",
            "  ncurses            conda-forge/linux-64::ncurses-6.3-h27087fc_1 None\n",
            "  openssl            conda-forge/linux-64::openssl-3.0.8-h0b41bf4_0 None\n",
            "  pip                conda-forge/noarch::pip-23.0.1-pyhd8ed1ab_0 None\n",
            "  python             conda-forge/linux-64::python-3.9.16-h2782a2a_0_cpython None\n",
            "  readline           conda-forge/linux-64::readline-8.1.2-h0f457ee_0 None\n",
            "  setuptools         conda-forge/noarch::setuptools-67.4.0-pyhd8ed1ab_0 None\n",
            "  tk                 conda-forge/linux-64::tk-8.6.12-h27826a3_0 None\n",
            "  tzdata             conda-forge/noarch::tzdata-2022g-h191b570_0 None\n",
            "  wheel              conda-forge/noarch::wheel-0.38.4-pyhd8ed1ab_0 None\n",
            "  xz                 conda-forge/linux-64::xz-5.2.6-h166bdaf_0 None\n",
            "\n",
            "\n",
            "Preparing transaction: \\ \b\b| \b\b/ \b\b- \b\bdone\n",
            "Verifying transaction: | \b\b/ \b\b- \b\b\\ \b\b| \b\b/ \b\b- \b\b\\ \b\b| \b\b/ \b\b- \b\b\\ \b\b| \b\b/ \b\b- \b\b\\ \b\b| \b\b/ \b\b- \b\bdone\n",
            "Executing transaction: | \b\b/ \b\b- \b\b\\ \b\b| \b\b/ \b\b- \b\b\\ \b\b| \b\b/ \b\b- \b\b\\ \b\b| \b\b/ \b\b- \b\b\\ \b\b| \b\b/ \b\b- \b\b\\ \b\b| \b\b/ \b\b- \b\b\\ \b\b| \b\b/ \b\b- \b\b\\ \b\b| \b\b/ \b\b- \b\b\\ \b\b| \b\b/ \b\b- \b\b\\ \b\b| \b\b/ \b\b- \b\b\\ \b\b| \b\b/ \b\b- \b\b\\ \b\bdone\n",
            "#\n",
            "# To activate this environment, use\n",
            "#\n",
            "#     $ conda activate rl\n",
            "#\n",
            "# To deactivate an active environment, use\n",
            "#\n",
            "#     $ conda deactivate\n",
            "\n",
            "Retrieving notices: ...working... done\n",
            "\n",
            "CommandNotFoundError: Your shell has not been properly configured to use 'conda activate'.\n",
            "To initialize your shell, run\n",
            "\n",
            "    $ conda init <SHELL_NAME>\n",
            "\n",
            "Currently supported shells are:\n",
            "  - bash\n",
            "  - fish\n",
            "  - tcsh\n",
            "  - xonsh\n",
            "  - zsh\n",
            "  - powershell\n",
            "\n",
            "See 'conda init --help' for more information and options.\n",
            "\n",
            "IMPORTANT: You may need to close and restart your shell after running 'conda init'.\n",
            "\n",
            "\n"
          ]
        }
      ]
    },
    {
      "cell_type": "code",
      "source": [
        "!ls"
      ],
      "metadata": {
        "colab": {
          "base_uri": "https://localhost:8080/"
        },
        "id": "95OLFTH5Gz2x",
        "outputId": "a732222d-5be4-4ead-dc2c-eee6b0ad6d9a"
      },
      "execution_count": 1,
      "outputs": [
        {
          "output_type": "stream",
          "name": "stdout",
          "text": [
            "condacolab_install.log\tml-agents  sample_data\n"
          ]
        }
      ]
    },
    {
      "cell_type": "markdown",
      "source": [
        "## Follow regular instructions"
      ],
      "metadata": {
        "id": "4jf9dSGpKCel"
      }
    },
    {
      "cell_type": "code",
      "source": [
        "# !pip install torch"
      ],
      "metadata": {
        "id": "lFhlcFqO9WCR"
      },
      "execution_count": null,
      "outputs": []
    },
    {
      "cell_type": "code",
      "execution_count": 17,
      "metadata": {
        "id": "sMuw71XZ9KVv",
        "colab": {
          "base_uri": "https://localhost:8080/"
        },
        "outputId": "35df9987-d482-4a72-dee0-992a6affd600"
      },
      "outputs": [
        {
          "output_type": "stream",
          "name": "stdout",
          "text": [
            "Cloning into 'ml-agents'...\n",
            "remote: Enumerating objects: 85459, done.\u001b[K\n",
            "remote: Counting objects: 100% (1/1), done.\u001b[K\n",
            "remote: Total 85459 (delta 0), reused 0 (delta 0), pack-reused 85458\u001b[K\n",
            "Receiving objects: 100% (85459/85459), 2.48 GiB | 17.53 MiB/s, done.\n",
            "Resolving deltas: 100% (62411/62411), done.\n",
            "Updating files: 100% (2159/2159), done.\n"
          ]
        }
      ],
      "source": [
        "!git clone --branch aivsai https://github.com/huggingface/ml-agents"
      ]
    },
    {
      "cell_type": "code",
      "source": [
        "!pip install /content/gdrive/MyDrive/rl/ml-agents/ml-agents-envs\n",
        "!pip install /content/gdrive/MyDrive/rl/ml-agents/ml-agents"
      ],
      "metadata": {
        "id": "YtlQDAKZDqy-",
        "colab": {
          "base_uri": "https://localhost:8080/",
          "height": 1000
        },
        "outputId": "1f494692-5b5d-42cd-b497-2ef783f0febb"
      },
      "execution_count": 3,
      "outputs": [
        {
          "output_type": "stream",
          "name": "stdout",
          "text": [
            "Looking in indexes: https://pypi.org/simple, https://us-python.pkg.dev/colab-wheels/public/simple/\n",
            "Processing ./ml-agents/ml-agents-envs\n",
            "  Preparing metadata (setup.py) ... \u001b[?25l\u001b[?25hdone\n",
            "Collecting cloudpickle\n",
            "  Downloading cloudpickle-2.2.1-py3-none-any.whl (25 kB)\n",
            "Collecting grpcio>=1.11.0\n",
            "  Downloading grpcio-1.51.3-cp38-cp38-manylinux_2_17_x86_64.manylinux2014_x86_64.whl (4.8 MB)\n",
            "\u001b[2K     \u001b[90m━━━━━━━━━━━━━━━━━━━━━━━━━━━━━━━━━━━━━━━━\u001b[0m \u001b[32m4.8/4.8 MB\u001b[0m \u001b[31m50.6 MB/s\u001b[0m eta \u001b[36m0:00:00\u001b[0m\n",
            "\u001b[?25hCollecting numpy>=1.14.1\n",
            "  Downloading numpy-1.24.2-cp38-cp38-manylinux_2_17_x86_64.manylinux2014_x86_64.whl (17.3 MB)\n",
            "\u001b[2K     \u001b[90m━━━━━━━━━━━━━━━━━━━━━━━━━━━━━━━━━━━━━━━━\u001b[0m \u001b[32m17.3/17.3 MB\u001b[0m \u001b[31m52.9 MB/s\u001b[0m eta \u001b[36m0:00:00\u001b[0m\n",
            "\u001b[?25hCollecting Pillow>=4.2.1\n",
            "  Downloading Pillow-9.4.0-cp38-cp38-manylinux_2_28_x86_64.whl (3.4 MB)\n",
            "\u001b[2K     \u001b[90m━━━━━━━━━━━━━━━━━━━━━━━━━━━━━━━━━━━━━━━━\u001b[0m \u001b[32m3.4/3.4 MB\u001b[0m \u001b[31m73.9 MB/s\u001b[0m eta \u001b[36m0:00:00\u001b[0m\n",
            "\u001b[?25hCollecting protobuf>=3.6\n",
            "  Downloading protobuf-4.22.0-cp37-abi3-manylinux2014_x86_64.whl (302 kB)\n",
            "\u001b[2K     \u001b[90m━━━━━━━━━━━━━━━━━━━━━━━━━━━━━━━━━━━━━━\u001b[0m \u001b[32m302.4/302.4 kB\u001b[0m \u001b[31m30.9 MB/s\u001b[0m eta \u001b[36m0:00:00\u001b[0m\n",
            "\u001b[?25hCollecting pyyaml>=3.1.0\n",
            "  Downloading PyYAML-6.0-cp38-cp38-manylinux_2_5_x86_64.manylinux1_x86_64.manylinux_2_12_x86_64.manylinux2010_x86_64.whl (701 kB)\n",
            "\u001b[2K     \u001b[90m━━━━━━━━━━━━━━━━━━━━━━━━━━━━━━━━━━━━━━\u001b[0m \u001b[32m701.2/701.2 kB\u001b[0m \u001b[31m46.6 MB/s\u001b[0m eta \u001b[36m0:00:00\u001b[0m\n",
            "\u001b[?25hCollecting gym>=0.21.0\n",
            "  Downloading gym-0.26.2.tar.gz (721 kB)\n",
            "\u001b[2K     \u001b[90m━━━━━━━━━━━━━━━━━━━━━━━━━━━━━━━━━━━━━━\u001b[0m \u001b[32m721.7/721.7 kB\u001b[0m \u001b[31m52.4 MB/s\u001b[0m eta \u001b[36m0:00:00\u001b[0m\n",
            "\u001b[?25h  Installing build dependencies ... \u001b[?25l\u001b[?25hdone\n",
            "  Getting requirements to build wheel ... \u001b[?25l\u001b[?25hdone\n",
            "  Preparing metadata (pyproject.toml) ... \u001b[?25l\u001b[?25hdone\n",
            "Collecting pettingzoo==1.15.0\n",
            "  Downloading PettingZoo-1.15.0.tar.gz (756 kB)\n",
            "\u001b[2K     \u001b[90m━━━━━━━━━━━━━━━━━━━━━━━━━━━━━━━━━━━━━━\u001b[0m \u001b[32m756.7/756.7 kB\u001b[0m \u001b[31m57.4 MB/s\u001b[0m eta \u001b[36m0:00:00\u001b[0m\n",
            "\u001b[?25h  Preparing metadata (setup.py) ... \u001b[?25l\u001b[?25hdone\n",
            "Collecting numpy>=1.14.1\n",
            "  Downloading numpy-1.21.2-cp38-cp38-manylinux_2_12_x86_64.manylinux2010_x86_64.whl (15.8 MB)\n",
            "\u001b[2K     \u001b[90m━━━━━━━━━━━━━━━━━━━━━━━━━━━━━━━━━━━━━━━━\u001b[0m \u001b[32m15.8/15.8 MB\u001b[0m \u001b[31m81.1 MB/s\u001b[0m eta \u001b[36m0:00:00\u001b[0m\n",
            "\u001b[?25hCollecting filelock>=3.4.0\n",
            "  Downloading filelock-3.9.0-py3-none-any.whl (9.7 kB)\n",
            "Collecting gym-notices>=0.0.4\n",
            "  Downloading gym_notices-0.0.8-py3-none-any.whl (3.0 kB)\n",
            "Collecting importlib-metadata>=4.8.0\n",
            "  Downloading importlib_metadata-6.0.0-py3-none-any.whl (21 kB)\n",
            "Collecting zipp>=0.5\n",
            "  Downloading zipp-3.15.0-py3-none-any.whl (6.8 kB)\n",
            "Building wheels for collected packages: mlagents-envs, pettingzoo, gym\n",
            "  Building wheel for mlagents-envs (setup.py) ... \u001b[?25l\u001b[?25hdone\n",
            "  Created wheel for mlagents-envs: filename=mlagents_envs-0.31.0.dev0-py3-none-any.whl size=88812 sha256=7aa200d8382c5c63a7108dce53071ac5bee5910e8913b7c8448dbba8e8d51511\n",
            "  Stored in directory: /root/.cache/pip/wheels/fe/f0/2b/110d12fa6d85a910097a50a7cb77d278bfb4b345c8e858bdb7\n",
            "  Building wheel for pettingzoo (setup.py) ... \u001b[?25l\u001b[?25hdone\n",
            "  Created wheel for pettingzoo: filename=PettingZoo-1.15.0-py3-none-any.whl size=875639 sha256=e09185671eefeea8e9d3e72770c7a0ac6e7975803a392bd2f4935a2016c73df8\n",
            "  Stored in directory: /root/.cache/pip/wheels/f1/35/21/42a486040dc8e3418992c80a814a27c9ab8aa771285af24866\n",
            "  Building wheel for gym (pyproject.toml) ... \u001b[?25l\u001b[?25hdone\n",
            "  Created wheel for gym: filename=gym-0.26.2-py3-none-any.whl size=827635 sha256=a63e7242684221c49a66869371efbb4f297522ba5aa5f7a32655e4d72b9676d7\n",
            "  Stored in directory: /root/.cache/pip/wheels/37/37/10/969be0b4bdeedbba8ecab056f1cbbf3a959cd7dffd435c9a39\n",
            "Successfully built mlagents-envs pettingzoo gym\n",
            "Installing collected packages: gym-notices, zipp, pyyaml, protobuf, Pillow, numpy, grpcio, filelock, cloudpickle, importlib-metadata, gym, pettingzoo, mlagents-envs\n",
            "Successfully installed Pillow-9.4.0 cloudpickle-2.2.1 filelock-3.9.0 grpcio-1.51.3 gym-0.26.2 gym-notices-0.0.8 importlib-metadata-6.0.0 mlagents-envs-0.31.0.dev0 numpy-1.21.2 pettingzoo-1.15.0 protobuf-4.22.0 pyyaml-6.0 zipp-3.15.0\n",
            "\u001b[33mWARNING: Running pip as the 'root' user can result in broken permissions and conflicting behaviour with the system package manager. It is recommended to use a virtual environment instead: https://pip.pypa.io/warnings/venv\u001b[0m\u001b[33m\n",
            "\u001b[0mLooking in indexes: https://pypi.org/simple, https://us-python.pkg.dev/colab-wheels/public/simple/\n",
            "Processing ./ml-agents/ml-agents\n",
            "  Preparing metadata (setup.py) ... \u001b[?25l\u001b[?25hdone\n",
            "Requirement already satisfied: grpcio>=1.11.0 in /usr/local/lib/python3.8/site-packages (from mlagents==0.31.0.dev0) (1.51.3)\n",
            "Collecting h5py>=2.9.0\n",
            "  Downloading h5py-3.8.0-cp38-cp38-manylinux_2_17_x86_64.manylinux2014_x86_64.whl (4.7 MB)\n",
            "\u001b[2K     \u001b[90m━━━━━━━━━━━━━━━━━━━━━━━━━━━━━━━━━━━━━━━━\u001b[0m \u001b[32m4.7/4.7 MB\u001b[0m \u001b[31m30.7 MB/s\u001b[0m eta \u001b[36m0:00:00\u001b[0m\n",
            "\u001b[?25hRequirement already satisfied: mlagents_envs==0.31.0.dev0 in /usr/local/lib/python3.8/site-packages (from mlagents==0.31.0.dev0) (0.31.0.dev0)\n",
            "Requirement already satisfied: numpy<2.0,>=1.13.3 in /usr/local/lib/python3.8/site-packages (from mlagents==0.31.0.dev0) (1.21.2)\n",
            "Requirement already satisfied: Pillow>=4.2.1 in /usr/local/lib/python3.8/site-packages (from mlagents==0.31.0.dev0) (9.4.0)\n",
            "Requirement already satisfied: protobuf>=3.6 in /usr/local/lib/python3.8/site-packages (from mlagents==0.31.0.dev0) (4.22.0)\n",
            "Requirement already satisfied: pyyaml>=3.1.0 in /usr/local/lib/python3.8/site-packages (from mlagents==0.31.0.dev0) (6.0)\n",
            "Collecting tensorboard>=1.15\n",
            "  Downloading tensorboard-2.12.0-py3-none-any.whl (5.6 MB)\n",
            "\u001b[2K     \u001b[90m━━━━━━━━━━━━━━━━━━━━━━━━━━━━━━━━━━━━━━━━\u001b[0m \u001b[32m5.6/5.6 MB\u001b[0m \u001b[31m70.9 MB/s\u001b[0m eta \u001b[36m0:00:00\u001b[0m\n",
            "\u001b[?25hCollecting attrs>=19.3.0\n",
            "  Downloading attrs-22.2.0-py3-none-any.whl (60 kB)\n",
            "\u001b[2K     \u001b[90m━━━━━━━━━━━━━━━━━━━━━━━━━━━━━━━━━━━━━━━\u001b[0m \u001b[32m60.0/60.0 kB\u001b[0m \u001b[31m339.1 kB/s\u001b[0m eta \u001b[36m0:00:00\u001b[0m\n",
            "\u001b[?25hCollecting huggingface_hub~=0.8\n",
            "  Downloading huggingface_hub-0.12.1-py3-none-any.whl (190 kB)\n",
            "\u001b[2K     \u001b[90m━━━━━━━━━━━━━━━━━━━━━━━━━━━━━━━━━━━━━━\u001b[0m \u001b[32m190.3/190.3 kB\u001b[0m \u001b[31m22.4 MB/s\u001b[0m eta \u001b[36m0:00:00\u001b[0m\n",
            "\u001b[?25hCollecting torch<1.9.0,>=1.6.0\n",
            "  Downloading torch-1.8.1-cp38-cp38-manylinux1_x86_64.whl (804.1 MB)\n",
            "\u001b[2K     \u001b[90m━━━━━━━━━━━━━━━━━━━━━━━━━━━━━━━━━━━━━━━\u001b[0m \u001b[32m804.1/804.1 MB\u001b[0m \u001b[31m2.2 MB/s\u001b[0m eta \u001b[36m0:00:00\u001b[0m\n",
            "\u001b[?25hCollecting cattrs<1.7,>=1.1.0\n",
            "  Downloading cattrs-1.5.0-py3-none-any.whl (19 kB)\n",
            "Requirement already satisfied: filelock>=3.4.0 in /usr/local/lib/python3.8/site-packages (from mlagents_envs==0.31.0.dev0->mlagents==0.31.0.dev0) (3.9.0)\n",
            "Requirement already satisfied: pettingzoo==1.15.0 in /usr/local/lib/python3.8/site-packages (from mlagents_envs==0.31.0.dev0->mlagents==0.31.0.dev0) (1.15.0)\n",
            "Requirement already satisfied: gym>=0.21.0 in /usr/local/lib/python3.8/site-packages (from mlagents_envs==0.31.0.dev0->mlagents==0.31.0.dev0) (0.26.2)\n",
            "Requirement already satisfied: cloudpickle in /usr/local/lib/python3.8/site-packages (from mlagents_envs==0.31.0.dev0->mlagents==0.31.0.dev0) (2.2.1)\n",
            "Collecting typing-extensions>=3.7.4.3\n",
            "  Downloading typing_extensions-4.5.0-py3-none-any.whl (27 kB)\n",
            "Collecting tqdm>=4.42.1\n",
            "  Downloading tqdm-4.64.1-py2.py3-none-any.whl (78 kB)\n",
            "\u001b[2K     \u001b[90m━━━━━━━━━━━━━━━━━━━━━━━━━━━━━━━━━━━━━━━━\u001b[0m \u001b[32m78.5/78.5 kB\u001b[0m \u001b[31m8.8 MB/s\u001b[0m eta \u001b[36m0:00:00\u001b[0m\n",
            "\u001b[?25hCollecting packaging>=20.9\n",
            "  Downloading packaging-23.0-py3-none-any.whl (42 kB)\n",
            "\u001b[2K     \u001b[90m━━━━━━━━━━━━━━━━━━━━━━━━━━━━━━━━━━━━━━━━\u001b[0m \u001b[32m42.7/42.7 kB\u001b[0m \u001b[31m4.5 MB/s\u001b[0m eta \u001b[36m0:00:00\u001b[0m\n",
            "\u001b[?25hRequirement already satisfied: requests in /usr/local/lib/python3.8/site-packages (from huggingface_hub~=0.8->mlagents==0.31.0.dev0) (2.28.1)\n",
            "Collecting absl-py>=0.4\n",
            "  Downloading absl_py-1.4.0-py3-none-any.whl (126 kB)\n",
            "\u001b[2K     \u001b[90m━━━━━━━━━━━━━━━━━━━━━━━━━━━━━━━━━━━━━━\u001b[0m \u001b[32m126.5/126.5 kB\u001b[0m \u001b[31m16.1 MB/s\u001b[0m eta \u001b[36m0:00:00\u001b[0m\n",
            "\u001b[?25hCollecting werkzeug>=1.0.1\n",
            "  Downloading Werkzeug-2.2.3-py3-none-any.whl (233 kB)\n",
            "\u001b[2K     \u001b[90m━━━━━━━━━━━━━━━━━━━━━━━━━━━━━━━━━━━━━━\u001b[0m \u001b[32m233.6/233.6 kB\u001b[0m \u001b[31m13.0 MB/s\u001b[0m eta \u001b[36m0:00:00\u001b[0m\n",
            "\u001b[?25hCollecting google-auth<3,>=1.6.3\n",
            "  Downloading google_auth-2.16.1-py2.py3-none-any.whl (177 kB)\n",
            "\u001b[2K     \u001b[90m━━━━━━━━━━━━━━━━━━━━━━━━━━━━━━━━━━━━━━\u001b[0m \u001b[32m177.2/177.2 kB\u001b[0m \u001b[31m15.0 MB/s\u001b[0m eta \u001b[36m0:00:00\u001b[0m\n",
            "\u001b[?25hRequirement already satisfied: wheel>=0.26 in /usr/local/lib/python3.8/site-packages (from tensorboard>=1.15->mlagents==0.31.0.dev0) (0.38.4)\n",
            "Collecting tensorboard-plugin-wit>=1.6.0\n",
            "  Downloading tensorboard_plugin_wit-1.8.1-py3-none-any.whl (781 kB)\n",
            "\u001b[2K     \u001b[90m━━━━━━━━━━━━━━━━━━━━━━━━━━━━━━━━━━━━━━\u001b[0m \u001b[32m781.3/781.3 kB\u001b[0m \u001b[31m48.5 MB/s\u001b[0m eta \u001b[36m0:00:00\u001b[0m\n",
            "\u001b[?25hCollecting google-auth-oauthlib<0.5,>=0.4.1\n",
            "  Downloading google_auth_oauthlib-0.4.6-py2.py3-none-any.whl (18 kB)\n",
            "Collecting tensorboard-data-server<0.8.0,>=0.7.0\n",
            "  Downloading tensorboard_data_server-0.7.0-py3-none-manylinux2014_x86_64.whl (6.6 MB)\n",
            "\u001b[2K     \u001b[90m━━━━━━━━━━━━━━━━━━━━━━━━━━━━━━━━━━━━━━━━\u001b[0m \u001b[32m6.6/6.6 MB\u001b[0m \u001b[31m62.3 MB/s\u001b[0m eta \u001b[36m0:00:00\u001b[0m\n",
            "\u001b[?25hRequirement already satisfied: setuptools>=41.0.0 in /usr/local/lib/python3.8/site-packages (from tensorboard>=1.15->mlagents==0.31.0.dev0) (65.5.1)\n",
            "Collecting markdown>=2.6.8\n",
            "  Downloading Markdown-3.4.1-py3-none-any.whl (93 kB)\n",
            "\u001b[2K     \u001b[90m━━━━━━━━━━━━━━━━━━━━━━━━━━━━━━━━━━━━━━━━\u001b[0m \u001b[32m93.3/93.3 kB\u001b[0m \u001b[31m10.5 MB/s\u001b[0m eta \u001b[36m0:00:00\u001b[0m\n",
            "\u001b[?25hCollecting six>=1.9.0\n",
            "  Downloading six-1.16.0-py2.py3-none-any.whl (11 kB)\n",
            "Collecting rsa<5,>=3.1.4\n",
            "  Downloading rsa-4.9-py3-none-any.whl (34 kB)\n",
            "Collecting cachetools<6.0,>=2.0.0\n",
            "  Downloading cachetools-5.3.0-py3-none-any.whl (9.3 kB)\n",
            "Collecting pyasn1-modules>=0.2.1\n",
            "  Downloading pyasn1_modules-0.2.8-py2.py3-none-any.whl (155 kB)\n",
            "\u001b[2K     \u001b[90m━━━━━━━━━━━━━━━━━━━━━━━━━━━━━━━━━━━━━━\u001b[0m \u001b[32m155.3/155.3 kB\u001b[0m \u001b[31m17.8 MB/s\u001b[0m eta \u001b[36m0:00:00\u001b[0m\n",
            "\u001b[?25hCollecting requests-oauthlib>=0.7.0\n",
            "  Downloading requests_oauthlib-1.3.1-py2.py3-none-any.whl (23 kB)\n",
            "Requirement already satisfied: importlib-metadata>=4.8.0 in /usr/local/lib/python3.8/site-packages (from gym>=0.21.0->mlagents_envs==0.31.0.dev0->mlagents==0.31.0.dev0) (6.0.0)\n",
            "Requirement already satisfied: gym-notices>=0.0.4 in /usr/local/lib/python3.8/site-packages (from gym>=0.21.0->mlagents_envs==0.31.0.dev0->mlagents==0.31.0.dev0) (0.0.8)\n",
            "Requirement already satisfied: charset-normalizer<3,>=2 in /usr/local/lib/python3.8/site-packages (from requests->huggingface_hub~=0.8->mlagents==0.31.0.dev0) (2.1.1)\n",
            "Requirement already satisfied: idna<4,>=2.5 in /usr/local/lib/python3.8/site-packages (from requests->huggingface_hub~=0.8->mlagents==0.31.0.dev0) (3.4)\n",
            "Requirement already satisfied: certifi>=2017.4.17 in /usr/local/lib/python3.8/site-packages (from requests->huggingface_hub~=0.8->mlagents==0.31.0.dev0) (2022.9.24)\n",
            "Requirement already satisfied: urllib3<1.27,>=1.21.1 in /usr/local/lib/python3.8/site-packages (from requests->huggingface_hub~=0.8->mlagents==0.31.0.dev0) (1.26.13)\n",
            "Collecting MarkupSafe>=2.1.1\n",
            "  Downloading MarkupSafe-2.1.2-cp38-cp38-manylinux_2_17_x86_64.manylinux2014_x86_64.whl (25 kB)\n",
            "Requirement already satisfied: zipp>=0.5 in /usr/local/lib/python3.8/site-packages (from importlib-metadata>=4.8.0->gym>=0.21.0->mlagents_envs==0.31.0.dev0->mlagents==0.31.0.dev0) (3.15.0)\n",
            "Collecting pyasn1<0.5.0,>=0.4.6\n",
            "  Downloading pyasn1-0.4.8-py2.py3-none-any.whl (77 kB)\n",
            "\u001b[2K     \u001b[90m━━━━━━━━━━━━━━━━━━━━━━━━━━━━━━━━━━━━━━━━\u001b[0m \u001b[32m77.1/77.1 kB\u001b[0m \u001b[31m9.8 MB/s\u001b[0m eta \u001b[36m0:00:00\u001b[0m\n",
            "\u001b[?25hCollecting oauthlib>=3.0.0\n",
            "  Downloading oauthlib-3.2.2-py3-none-any.whl (151 kB)\n",
            "\u001b[2K     \u001b[90m━━━━━━━━━━━━━━━━━━━━━━━━━━━━━━━━━━━━━━\u001b[0m \u001b[32m151.7/151.7 kB\u001b[0m \u001b[31m12.9 MB/s\u001b[0m eta \u001b[36m0:00:00\u001b[0m\n",
            "\u001b[?25hBuilding wheels for collected packages: mlagents\n",
            "  Building wheel for mlagents (setup.py) ... \u001b[?25l\u001b[?25hdone\n",
            "  Created wheel for mlagents: filename=mlagents-0.31.0.dev0-py3-none-any.whl size=168659 sha256=984db23af33974e8bcd9925920d185dab09190e55e4a11e3fcdb04da1661ee24\n",
            "  Stored in directory: /root/.cache/pip/wheels/81/3d/d4/0b95b0cfe90cc8952e64bf97fec9d7a3e66a4ca314a1339371\n",
            "Successfully built mlagents\n",
            "Installing collected packages: tensorboard-plugin-wit, pyasn1, typing-extensions, tqdm, tensorboard-data-server, six, rsa, pyasn1-modules, packaging, oauthlib, MarkupSafe, h5py, cachetools, attrs, absl-py, werkzeug, torch, requests-oauthlib, markdown, huggingface_hub, google-auth, cattrs, google-auth-oauthlib, tensorboard, mlagents\n",
            "Successfully installed MarkupSafe-2.1.2 absl-py-1.4.0 attrs-22.2.0 cachetools-5.3.0 cattrs-1.5.0 google-auth-2.16.1 google-auth-oauthlib-0.4.6 h5py-3.8.0 huggingface_hub-0.12.1 markdown-3.4.1 mlagents-0.31.0.dev0 oauthlib-3.2.2 packaging-23.0 pyasn1-0.4.8 pyasn1-modules-0.2.8 requests-oauthlib-1.3.1 rsa-4.9 six-1.16.0 tensorboard-2.12.0 tensorboard-data-server-0.7.0 tensorboard-plugin-wit-1.8.1 torch-1.8.1 tqdm-4.64.1 typing-extensions-4.5.0 werkzeug-2.2.3\n",
            "\u001b[33mWARNING: Running pip as the 'root' user can result in broken permissions and conflicting behaviour with the system package manager. It is recommended to use a virtual environment instead: https://pip.pypa.io/warnings/venv\u001b[0m\u001b[33m\n",
            "\u001b[0m"
          ]
        },
        {
          "output_type": "display_data",
          "data": {
            "application/vnd.colab-display-data+json": {
              "pip_warning": {
                "packages": [
                  "google"
                ]
              }
            }
          },
          "metadata": {}
        }
      ]
    },
    {
      "cell_type": "markdown",
      "source": [
        "Load [SoccerTwos.zip](https://drive.google.com/file/d/1KuqBKYiXiIcU4kNMqEzhgypuFP5_45CL/view) from local machine.\n",
        "\n"
      ],
      "metadata": {
        "id": "pla6qstvCu-z"
      }
    },
    {
      "cell_type": "code",
      "source": [
        "from google.colab import files\n",
        "uploaded = files.upload()"
      ],
      "metadata": {
        "id": "YBwXzbKfFqt_",
        "colab": {
          "base_uri": "https://localhost:8080/",
          "height": 38
        },
        "outputId": "9c67d74b-a567-4b69-faa7-d06d9d5436b1"
      },
      "execution_count": 18,
      "outputs": [
        {
          "output_type": "display_data",
          "data": {
            "text/plain": [
              "<IPython.core.display.HTML object>"
            ],
            "text/html": [
              "\n",
              "     <input type=\"file\" id=\"files-039ca42a-1319-4021-8a21-da168ddb7a71\" name=\"files[]\" multiple disabled\n",
              "        style=\"border:none\" />\n",
              "     <output id=\"result-039ca42a-1319-4021-8a21-da168ddb7a71\">\n",
              "      Upload widget is only available when the cell has been executed in the\n",
              "      current browser session. Please rerun this cell to enable.\n",
              "      </output>\n",
              "      <script>// Copyright 2017 Google LLC\n",
              "//\n",
              "// Licensed under the Apache License, Version 2.0 (the \"License\");\n",
              "// you may not use this file except in compliance with the License.\n",
              "// You may obtain a copy of the License at\n",
              "//\n",
              "//      http://www.apache.org/licenses/LICENSE-2.0\n",
              "//\n",
              "// Unless required by applicable law or agreed to in writing, software\n",
              "// distributed under the License is distributed on an \"AS IS\" BASIS,\n",
              "// WITHOUT WARRANTIES OR CONDITIONS OF ANY KIND, either express or implied.\n",
              "// See the License for the specific language governing permissions and\n",
              "// limitations under the License.\n",
              "\n",
              "/**\n",
              " * @fileoverview Helpers for google.colab Python module.\n",
              " */\n",
              "(function(scope) {\n",
              "function span(text, styleAttributes = {}) {\n",
              "  const element = document.createElement('span');\n",
              "  element.textContent = text;\n",
              "  for (const key of Object.keys(styleAttributes)) {\n",
              "    element.style[key] = styleAttributes[key];\n",
              "  }\n",
              "  return element;\n",
              "}\n",
              "\n",
              "// Max number of bytes which will be uploaded at a time.\n",
              "const MAX_PAYLOAD_SIZE = 100 * 1024;\n",
              "\n",
              "function _uploadFiles(inputId, outputId) {\n",
              "  const steps = uploadFilesStep(inputId, outputId);\n",
              "  const outputElement = document.getElementById(outputId);\n",
              "  // Cache steps on the outputElement to make it available for the next call\n",
              "  // to uploadFilesContinue from Python.\n",
              "  outputElement.steps = steps;\n",
              "\n",
              "  return _uploadFilesContinue(outputId);\n",
              "}\n",
              "\n",
              "// This is roughly an async generator (not supported in the browser yet),\n",
              "// where there are multiple asynchronous steps and the Python side is going\n",
              "// to poll for completion of each step.\n",
              "// This uses a Promise to block the python side on completion of each step,\n",
              "// then passes the result of the previous step as the input to the next step.\n",
              "function _uploadFilesContinue(outputId) {\n",
              "  const outputElement = document.getElementById(outputId);\n",
              "  const steps = outputElement.steps;\n",
              "\n",
              "  const next = steps.next(outputElement.lastPromiseValue);\n",
              "  return Promise.resolve(next.value.promise).then((value) => {\n",
              "    // Cache the last promise value to make it available to the next\n",
              "    // step of the generator.\n",
              "    outputElement.lastPromiseValue = value;\n",
              "    return next.value.response;\n",
              "  });\n",
              "}\n",
              "\n",
              "/**\n",
              " * Generator function which is called between each async step of the upload\n",
              " * process.\n",
              " * @param {string} inputId Element ID of the input file picker element.\n",
              " * @param {string} outputId Element ID of the output display.\n",
              " * @return {!Iterable<!Object>} Iterable of next steps.\n",
              " */\n",
              "function* uploadFilesStep(inputId, outputId) {\n",
              "  const inputElement = document.getElementById(inputId);\n",
              "  inputElement.disabled = false;\n",
              "\n",
              "  const outputElement = document.getElementById(outputId);\n",
              "  outputElement.innerHTML = '';\n",
              "\n",
              "  const pickedPromise = new Promise((resolve) => {\n",
              "    inputElement.addEventListener('change', (e) => {\n",
              "      resolve(e.target.files);\n",
              "    });\n",
              "  });\n",
              "\n",
              "  const cancel = document.createElement('button');\n",
              "  inputElement.parentElement.appendChild(cancel);\n",
              "  cancel.textContent = 'Cancel upload';\n",
              "  const cancelPromise = new Promise((resolve) => {\n",
              "    cancel.onclick = () => {\n",
              "      resolve(null);\n",
              "    };\n",
              "  });\n",
              "\n",
              "  // Wait for the user to pick the files.\n",
              "  const files = yield {\n",
              "    promise: Promise.race([pickedPromise, cancelPromise]),\n",
              "    response: {\n",
              "      action: 'starting',\n",
              "    }\n",
              "  };\n",
              "\n",
              "  cancel.remove();\n",
              "\n",
              "  // Disable the input element since further picks are not allowed.\n",
              "  inputElement.disabled = true;\n",
              "\n",
              "  if (!files) {\n",
              "    return {\n",
              "      response: {\n",
              "        action: 'complete',\n",
              "      }\n",
              "    };\n",
              "  }\n",
              "\n",
              "  for (const file of files) {\n",
              "    const li = document.createElement('li');\n",
              "    li.append(span(file.name, {fontWeight: 'bold'}));\n",
              "    li.append(span(\n",
              "        `(${file.type || 'n/a'}) - ${file.size} bytes, ` +\n",
              "        `last modified: ${\n",
              "            file.lastModifiedDate ? file.lastModifiedDate.toLocaleDateString() :\n",
              "                                    'n/a'} - `));\n",
              "    const percent = span('0% done');\n",
              "    li.appendChild(percent);\n",
              "\n",
              "    outputElement.appendChild(li);\n",
              "\n",
              "    const fileDataPromise = new Promise((resolve) => {\n",
              "      const reader = new FileReader();\n",
              "      reader.onload = (e) => {\n",
              "        resolve(e.target.result);\n",
              "      };\n",
              "      reader.readAsArrayBuffer(file);\n",
              "    });\n",
              "    // Wait for the data to be ready.\n",
              "    let fileData = yield {\n",
              "      promise: fileDataPromise,\n",
              "      response: {\n",
              "        action: 'continue',\n",
              "      }\n",
              "    };\n",
              "\n",
              "    // Use a chunked sending to avoid message size limits. See b/62115660.\n",
              "    let position = 0;\n",
              "    do {\n",
              "      const length = Math.min(fileData.byteLength - position, MAX_PAYLOAD_SIZE);\n",
              "      const chunk = new Uint8Array(fileData, position, length);\n",
              "      position += length;\n",
              "\n",
              "      const base64 = btoa(String.fromCharCode.apply(null, chunk));\n",
              "      yield {\n",
              "        response: {\n",
              "          action: 'append',\n",
              "          file: file.name,\n",
              "          data: base64,\n",
              "        },\n",
              "      };\n",
              "\n",
              "      let percentDone = fileData.byteLength === 0 ?\n",
              "          100 :\n",
              "          Math.round((position / fileData.byteLength) * 100);\n",
              "      percent.textContent = `${percentDone}% done`;\n",
              "\n",
              "    } while (position < fileData.byteLength);\n",
              "  }\n",
              "\n",
              "  // All done.\n",
              "  yield {\n",
              "    response: {\n",
              "      action: 'complete',\n",
              "    }\n",
              "  };\n",
              "}\n",
              "\n",
              "scope.google = scope.google || {};\n",
              "scope.google.colab = scope.google.colab || {};\n",
              "scope.google.colab._files = {\n",
              "  _uploadFiles,\n",
              "  _uploadFilesContinue,\n",
              "};\n",
              "})(self);\n",
              "</script> "
            ]
          },
          "metadata": {}
        }
      ]
    },
    {
      "cell_type": "code",
      "source": [
        "!wget --load-cookies /tmp/cookies.txt \"https://docs.google.com/uc?export=download&confirm=$(wget --quiet --save-cookies /tmp/cookies.txt --keep-session-cookies --no-check-certificate 'https://docs.google.com/uc?export=download&id=1KuqBKYiXiIcU4kNMqEzhgypuFP5_45CL' -O- | sed -rn 's/.*confirm=([0-9A-Za-z_]+).*/\\1\\n/p')&id=1KuqBKYiXiIcU4kNMqEzhgypuFP5_45CL\" -O ./SoccerTwos.zip && rm -rf /tmp/cookies.txt"
      ],
      "metadata": {
        "colab": {
          "base_uri": "https://localhost:8080/"
        },
        "id": "t9aYGRstHApY",
        "outputId": "0920d4f8-d017-42f1-cd02-0725b182744d"
      },
      "execution_count": 19,
      "outputs": [
        {
          "output_type": "stream",
          "name": "stdout",
          "text": [
            "--2023-02-26 19:22:57--  https://docs.google.com/uc?export=download&confirm=t&id=1KuqBKYiXiIcU4kNMqEzhgypuFP5_45CL\n",
            "Resolving docs.google.com (docs.google.com)... 142.250.4.102, 142.250.4.139, 142.250.4.113, ...\n",
            "Connecting to docs.google.com (docs.google.com)|142.250.4.102|:443... connected.\n",
            "HTTP request sent, awaiting response... 303 See Other\n",
            "Location: https://doc-04-8c-docs.googleusercontent.com/docs/securesc/ha0ro937gcuc7l7deffksulhg5h7mbp1/4d9t6lb6qjb6ianqg9no5jpsv0aec6er/1677439350000/09764732090272539193/*/1KuqBKYiXiIcU4kNMqEzhgypuFP5_45CL?e=download&uuid=1dae59dc-488d-4836-9e89-4e31084c6bc8 [following]\n",
            "Warning: wildcards not supported in HTTP.\n",
            "--2023-02-26 19:22:58--  https://doc-04-8c-docs.googleusercontent.com/docs/securesc/ha0ro937gcuc7l7deffksulhg5h7mbp1/4d9t6lb6qjb6ianqg9no5jpsv0aec6er/1677439350000/09764732090272539193/*/1KuqBKYiXiIcU4kNMqEzhgypuFP5_45CL?e=download&uuid=1dae59dc-488d-4836-9e89-4e31084c6bc8\n",
            "Resolving doc-04-8c-docs.googleusercontent.com (doc-04-8c-docs.googleusercontent.com)... 74.125.68.132, 2404:6800:4003:c02::84\n",
            "Connecting to doc-04-8c-docs.googleusercontent.com (doc-04-8c-docs.googleusercontent.com)|74.125.68.132|:443... connected.\n",
            "HTTP request sent, awaiting response... 200 OK\n",
            "Length: 36963480 (35M) [application/x-zip-compressed]\n",
            "Saving to: ‘./SoccerTwos.zip’\n",
            "\n",
            "./SoccerTwos.zip    100%[===================>]  35.25M  13.6MB/s    in 2.6s    \n",
            "\n",
            "2023-02-26 19:23:01 (13.6 MB/s) - ‘./SoccerTwos.zip’ saved [36963480/36963480]\n",
            "\n"
          ]
        }
      ]
    },
    {
      "cell_type": "code",
      "source": [
        "!unzip SoccerTwos.zip -d SoccerTwos"
      ],
      "metadata": {
        "id": "k5i0Lm4RCQrQ",
        "colab": {
          "base_uri": "https://localhost:8080/"
        },
        "outputId": "8a2721f2-9144-4f76-9ff6-66b6b4f2b2b4"
      },
      "execution_count": 20,
      "outputs": [
        {
          "output_type": "stream",
          "name": "stdout",
          "text": [
            "Archive:  SoccerTwos.zip\n",
            "   creating: SoccerTwos/SoccerTwos_Data/\n",
            "  inflating: SoccerTwos/SoccerTwos_Data/app.info  \n",
            "  inflating: SoccerTwos/SoccerTwos_Data/boot.config  \n",
            "  inflating: SoccerTwos/SoccerTwos_Data/globalgamemanagers  \n",
            "  inflating: SoccerTwos/SoccerTwos_Data/globalgamemanagers.assets  \n",
            "  inflating: SoccerTwos/SoccerTwos_Data/level0  \n",
            "  inflating: SoccerTwos/SoccerTwos_Data/level0.resS  \n",
            "   creating: SoccerTwos/SoccerTwos_Data/Managed/\n",
            "  inflating: SoccerTwos/SoccerTwos_Data/Managed/Assembly-CSharp.dll  \n",
            "  inflating: SoccerTwos/SoccerTwos_Data/Managed/Google.Protobuf.dll  \n",
            "  inflating: SoccerTwos/SoccerTwos_Data/Managed/Grpc.Core.dll  \n",
            "  inflating: SoccerTwos/SoccerTwos_Data/Managed/Mono.Security.dll  \n",
            "  inflating: SoccerTwos/SoccerTwos_Data/Managed/mscorlib.dll  \n",
            "  inflating: SoccerTwos/SoccerTwos_Data/Managed/netstandard.dll  \n",
            "  inflating: SoccerTwos/SoccerTwos_Data/Managed/Newtonsoft.Json.dll  \n",
            "  inflating: SoccerTwos/SoccerTwos_Data/Managed/System.ComponentModel.Composition.dll  \n",
            "  inflating: SoccerTwos/SoccerTwos_Data/Managed/System.Configuration.dll  \n",
            "  inflating: SoccerTwos/SoccerTwos_Data/Managed/System.Core.dll  \n",
            "  inflating: SoccerTwos/SoccerTwos_Data/Managed/System.Data.DataSetExtensions.dll  \n",
            "  inflating: SoccerTwos/SoccerTwos_Data/Managed/System.Data.dll  \n",
            "  inflating: SoccerTwos/SoccerTwos_Data/Managed/System.dll  \n",
            "  inflating: SoccerTwos/SoccerTwos_Data/Managed/System.Drawing.dll  \n",
            "  inflating: SoccerTwos/SoccerTwos_Data/Managed/System.EnterpriseServices.dll  \n",
            "  inflating: SoccerTwos/SoccerTwos_Data/Managed/System.Interactive.Async.dll  \n",
            "  inflating: SoccerTwos/SoccerTwos_Data/Managed/System.IO.Abstractions.dll  \n",
            "  inflating: SoccerTwos/SoccerTwos_Data/Managed/System.IO.Abstractions.TestingHelpers.dll  \n",
            "  inflating: SoccerTwos/SoccerTwos_Data/Managed/System.IO.Compression.dll  \n",
            "  inflating: SoccerTwos/SoccerTwos_Data/Managed/System.IO.Compression.FileSystem.dll  \n",
            "  inflating: SoccerTwos/SoccerTwos_Data/Managed/System.Net.Http.dll  \n",
            "  inflating: SoccerTwos/SoccerTwos_Data/Managed/System.Numerics.dll  \n",
            "  inflating: SoccerTwos/SoccerTwos_Data/Managed/System.Runtime.dll  \n",
            "  inflating: SoccerTwos/SoccerTwos_Data/Managed/System.Runtime.Serialization.dll  \n",
            "  inflating: SoccerTwos/SoccerTwos_Data/Managed/System.Security.dll  \n",
            "  inflating: SoccerTwos/SoccerTwos_Data/Managed/System.ServiceModel.Internals.dll  \n",
            "  inflating: SoccerTwos/SoccerTwos_Data/Managed/System.Transactions.dll  \n",
            "  inflating: SoccerTwos/SoccerTwos_Data/Managed/System.Xml.dll  \n",
            "  inflating: SoccerTwos/SoccerTwos_Data/Managed/System.Xml.Linq.dll  \n",
            "  inflating: SoccerTwos/SoccerTwos_Data/Managed/Unity.Barracuda.BurstBLAS.dll  \n",
            "  inflating: SoccerTwos/SoccerTwos_Data/Managed/Unity.Barracuda.dll  \n",
            "  inflating: SoccerTwos/SoccerTwos_Data/Managed/Unity.Barracuda.ONNX.dll  \n",
            "  inflating: SoccerTwos/SoccerTwos_Data/Managed/Unity.Burst.Cecil.dll  \n",
            "  inflating: SoccerTwos/SoccerTwos_Data/Managed/Unity.Burst.Cecil.Mdb.dll  \n",
            "  inflating: SoccerTwos/SoccerTwos_Data/Managed/Unity.Burst.Cecil.Pdb.dll  \n",
            "  inflating: SoccerTwos/SoccerTwos_Data/Managed/Unity.Burst.Cecil.Rocks.dll  \n",
            "  inflating: SoccerTwos/SoccerTwos_Data/Managed/Unity.Burst.dll  \n",
            "  inflating: SoccerTwos/SoccerTwos_Data/Managed/Unity.Burst.Unsafe.dll  \n",
            "  inflating: SoccerTwos/SoccerTwos_Data/Managed/Unity.InputSystem.dll  \n",
            "  inflating: SoccerTwos/SoccerTwos_Data/Managed/Unity.Mathematics.dll  \n",
            "  inflating: SoccerTwos/SoccerTwos_Data/Managed/Unity.ML-Agents.CommunicatorObjects.dll  \n",
            "  inflating: SoccerTwos/SoccerTwos_Data/Managed/Unity.ML-Agents.dll  \n",
            "  inflating: SoccerTwos/SoccerTwos_Data/Managed/Unity.ML-Agents.Extensions.dll  \n",
            "  inflating: SoccerTwos/SoccerTwos_Data/Managed/Unity.ML-Agents.Extensions.Input.dll  \n",
            "  inflating: SoccerTwos/SoccerTwos_Data/Managed/Unity.TextMeshPro.dll  \n",
            "  inflating: SoccerTwos/SoccerTwos_Data/Managed/UnityEngine.AccessibilityModule.dll  \n",
            "  inflating: SoccerTwos/SoccerTwos_Data/Managed/UnityEngine.AIModule.dll  \n",
            "  inflating: SoccerTwos/SoccerTwos_Data/Managed/UnityEngine.AndroidJNIModule.dll  \n",
            "  inflating: SoccerTwos/SoccerTwos_Data/Managed/UnityEngine.AnimationModule.dll  \n",
            "  inflating: SoccerTwos/SoccerTwos_Data/Managed/UnityEngine.AssetBundleModule.dll  \n",
            "  inflating: SoccerTwos/SoccerTwos_Data/Managed/UnityEngine.AudioModule.dll  \n",
            "  inflating: SoccerTwos/SoccerTwos_Data/Managed/UnityEngine.ClothModule.dll  \n",
            "  inflating: SoccerTwos/SoccerTwos_Data/Managed/UnityEngine.ClusterInputModule.dll  \n",
            "  inflating: SoccerTwos/SoccerTwos_Data/Managed/UnityEngine.ClusterRendererModule.dll  \n",
            "  inflating: SoccerTwos/SoccerTwos_Data/Managed/UnityEngine.CoreModule.dll  \n",
            "  inflating: SoccerTwos/SoccerTwos_Data/Managed/UnityEngine.CrashReportingModule.dll  \n",
            "  inflating: SoccerTwos/SoccerTwos_Data/Managed/UnityEngine.DirectorModule.dll  \n",
            "  inflating: SoccerTwos/SoccerTwos_Data/Managed/UnityEngine.dll  \n",
            "  inflating: SoccerTwos/SoccerTwos_Data/Managed/UnityEngine.DSPGraphModule.dll  \n",
            "  inflating: SoccerTwos/SoccerTwos_Data/Managed/UnityEngine.GameCenterModule.dll  \n",
            "  inflating: SoccerTwos/SoccerTwos_Data/Managed/UnityEngine.GIModule.dll  \n",
            "  inflating: SoccerTwos/SoccerTwos_Data/Managed/UnityEngine.GridModule.dll  \n",
            "  inflating: SoccerTwos/SoccerTwos_Data/Managed/UnityEngine.HotReloadModule.dll  \n",
            "  inflating: SoccerTwos/SoccerTwos_Data/Managed/UnityEngine.ImageConversionModule.dll  \n",
            "  inflating: SoccerTwos/SoccerTwos_Data/Managed/UnityEngine.IMGUIModule.dll  \n",
            "  inflating: SoccerTwos/SoccerTwos_Data/Managed/UnityEngine.InputLegacyModule.dll  \n",
            "  inflating: SoccerTwos/SoccerTwos_Data/Managed/UnityEngine.InputModule.dll  \n",
            "  inflating: SoccerTwos/SoccerTwos_Data/Managed/UnityEngine.JSONSerializeModule.dll  \n",
            "  inflating: SoccerTwos/SoccerTwos_Data/Managed/UnityEngine.LocalizationModule.dll  \n",
            "  inflating: SoccerTwos/SoccerTwos_Data/Managed/UnityEngine.ParticleSystemModule.dll  \n",
            "  inflating: SoccerTwos/SoccerTwos_Data/Managed/UnityEngine.PerformanceReportingModule.dll  \n",
            "  inflating: SoccerTwos/SoccerTwos_Data/Managed/UnityEngine.Physics2DModule.dll  \n",
            "  inflating: SoccerTwos/SoccerTwos_Data/Managed/UnityEngine.PhysicsModule.dll  \n",
            "  inflating: SoccerTwos/SoccerTwos_Data/Managed/UnityEngine.ProfilerModule.dll  \n",
            "  inflating: SoccerTwos/SoccerTwos_Data/Managed/UnityEngine.RuntimeInitializeOnLoadManagerInitializerModule.dll  \n",
            "  inflating: SoccerTwos/SoccerTwos_Data/Managed/UnityEngine.ScreenCaptureModule.dll  \n",
            "  inflating: SoccerTwos/SoccerTwos_Data/Managed/UnityEngine.SharedInternalsModule.dll  \n",
            "  inflating: SoccerTwos/SoccerTwos_Data/Managed/UnityEngine.SpriteMaskModule.dll  \n",
            "  inflating: SoccerTwos/SoccerTwos_Data/Managed/UnityEngine.SpriteShapeModule.dll  \n",
            "  inflating: SoccerTwos/SoccerTwos_Data/Managed/UnityEngine.StreamingModule.dll  \n",
            "  inflating: SoccerTwos/SoccerTwos_Data/Managed/UnityEngine.SubstanceModule.dll  \n",
            "  inflating: SoccerTwos/SoccerTwos_Data/Managed/UnityEngine.SubsystemsModule.dll  \n",
            "  inflating: SoccerTwos/SoccerTwos_Data/Managed/UnityEngine.TerrainModule.dll  \n",
            "  inflating: SoccerTwos/SoccerTwos_Data/Managed/UnityEngine.TerrainPhysicsModule.dll  \n",
            "  inflating: SoccerTwos/SoccerTwos_Data/Managed/UnityEngine.TextCoreFontEngineModule.dll  \n",
            "  inflating: SoccerTwos/SoccerTwos_Data/Managed/UnityEngine.TextCoreTextEngineModule.dll  \n",
            "  inflating: SoccerTwos/SoccerTwos_Data/Managed/UnityEngine.TextRenderingModule.dll  \n",
            "  inflating: SoccerTwos/SoccerTwos_Data/Managed/UnityEngine.TilemapModule.dll  \n",
            "  inflating: SoccerTwos/SoccerTwos_Data/Managed/UnityEngine.TLSModule.dll  \n",
            "  inflating: SoccerTwos/SoccerTwos_Data/Managed/UnityEngine.UI.dll  \n",
            "  inflating: SoccerTwos/SoccerTwos_Data/Managed/UnityEngine.UIElementsModule.dll  \n",
            "  inflating: SoccerTwos/SoccerTwos_Data/Managed/UnityEngine.UIElementsNativeModule.dll  \n",
            "  inflating: SoccerTwos/SoccerTwos_Data/Managed/UnityEngine.UIModule.dll  \n",
            "  inflating: SoccerTwos/SoccerTwos_Data/Managed/UnityEngine.UmbraModule.dll  \n",
            "  inflating: SoccerTwos/SoccerTwos_Data/Managed/UnityEngine.UNETModule.dll  \n",
            "  inflating: SoccerTwos/SoccerTwos_Data/Managed/UnityEngine.UnityAnalyticsCommonModule.dll  \n",
            "  inflating: SoccerTwos/SoccerTwos_Data/Managed/UnityEngine.UnityAnalyticsModule.dll  \n",
            "  inflating: SoccerTwos/SoccerTwos_Data/Managed/UnityEngine.UnityConnectModule.dll  \n",
            "  inflating: SoccerTwos/SoccerTwos_Data/Managed/UnityEngine.UnityCurlModule.dll  \n",
            "  inflating: SoccerTwos/SoccerTwos_Data/Managed/UnityEngine.UnityTestProtocolModule.dll  \n",
            "  inflating: SoccerTwos/SoccerTwos_Data/Managed/UnityEngine.UnityWebRequestAssetBundleModule.dll  \n",
            "  inflating: SoccerTwos/SoccerTwos_Data/Managed/UnityEngine.UnityWebRequestAudioModule.dll  \n",
            "  inflating: SoccerTwos/SoccerTwos_Data/Managed/UnityEngine.UnityWebRequestModule.dll  \n",
            "  inflating: SoccerTwos/SoccerTwos_Data/Managed/UnityEngine.UnityWebRequestTextureModule.dll  \n",
            "  inflating: SoccerTwos/SoccerTwos_Data/Managed/UnityEngine.UnityWebRequestWWWModule.dll  \n",
            "  inflating: SoccerTwos/SoccerTwos_Data/Managed/UnityEngine.VehiclesModule.dll  \n",
            "  inflating: SoccerTwos/SoccerTwos_Data/Managed/UnityEngine.VFXModule.dll  \n",
            "  inflating: SoccerTwos/SoccerTwos_Data/Managed/UnityEngine.VideoModule.dll  \n",
            "  inflating: SoccerTwos/SoccerTwos_Data/Managed/UnityEngine.VirtualTexturingModule.dll  \n",
            "  inflating: SoccerTwos/SoccerTwos_Data/Managed/UnityEngine.VRModule.dll  \n",
            "  inflating: SoccerTwos/SoccerTwos_Data/Managed/UnityEngine.WindModule.dll  \n",
            "  inflating: SoccerTwos/SoccerTwos_Data/Managed/UnityEngine.XRModule.dll  \n",
            "   creating: SoccerTwos/SoccerTwos_Data/MonoBleedingEdge/\n",
            "   creating: SoccerTwos/SoccerTwos_Data/MonoBleedingEdge/etc/\n",
            "  inflating: SoccerTwos/SoccerTwos_Data/MonoBleedingEdge/etc/config  \n",
            "   creating: SoccerTwos/SoccerTwos_Data/MonoBleedingEdge/etc/mono/\n",
            "   creating: SoccerTwos/SoccerTwos_Data/MonoBleedingEdge/etc/mono/2.0/\n",
            "   creating: SoccerTwos/SoccerTwos_Data/MonoBleedingEdge/etc/mono/2.0/Browsers/\n",
            "  inflating: SoccerTwos/SoccerTwos_Data/MonoBleedingEdge/etc/mono/2.0/Browsers/Compat.browser  \n",
            "  inflating: SoccerTwos/SoccerTwos_Data/MonoBleedingEdge/etc/mono/2.0/DefaultWsdlHelpGenerator.aspx  \n",
            "  inflating: SoccerTwos/SoccerTwos_Data/MonoBleedingEdge/etc/mono/2.0/machine.config  \n",
            "  inflating: SoccerTwos/SoccerTwos_Data/MonoBleedingEdge/etc/mono/2.0/settings.map  \n",
            "  inflating: SoccerTwos/SoccerTwos_Data/MonoBleedingEdge/etc/mono/2.0/web.config  \n",
            "   creating: SoccerTwos/SoccerTwos_Data/MonoBleedingEdge/etc/mono/4.0/\n",
            "   creating: SoccerTwos/SoccerTwos_Data/MonoBleedingEdge/etc/mono/4.0/Browsers/\n",
            "  inflating: SoccerTwos/SoccerTwos_Data/MonoBleedingEdge/etc/mono/4.0/Browsers/Compat.browser  \n",
            "  inflating: SoccerTwos/SoccerTwos_Data/MonoBleedingEdge/etc/mono/4.0/DefaultWsdlHelpGenerator.aspx  \n",
            "  inflating: SoccerTwos/SoccerTwos_Data/MonoBleedingEdge/etc/mono/4.0/machine.config  \n",
            "  inflating: SoccerTwos/SoccerTwos_Data/MonoBleedingEdge/etc/mono/4.0/settings.map  \n",
            "  inflating: SoccerTwos/SoccerTwos_Data/MonoBleedingEdge/etc/mono/4.0/web.config  \n",
            "   creating: SoccerTwos/SoccerTwos_Data/MonoBleedingEdge/etc/mono/4.5/\n",
            "   creating: SoccerTwos/SoccerTwos_Data/MonoBleedingEdge/etc/mono/4.5/Browsers/\n",
            "  inflating: SoccerTwos/SoccerTwos_Data/MonoBleedingEdge/etc/mono/4.5/Browsers/Compat.browser  \n",
            "  inflating: SoccerTwos/SoccerTwos_Data/MonoBleedingEdge/etc/mono/4.5/DefaultWsdlHelpGenerator.aspx  \n",
            "  inflating: SoccerTwos/SoccerTwos_Data/MonoBleedingEdge/etc/mono/4.5/machine.config  \n",
            "  inflating: SoccerTwos/SoccerTwos_Data/MonoBleedingEdge/etc/mono/4.5/settings.map  \n",
            "  inflating: SoccerTwos/SoccerTwos_Data/MonoBleedingEdge/etc/mono/4.5/web.config  \n",
            "  inflating: SoccerTwos/SoccerTwos_Data/MonoBleedingEdge/etc/mono/browscap.ini  \n",
            "  inflating: SoccerTwos/SoccerTwos_Data/MonoBleedingEdge/etc/mono/config  \n",
            "   creating: SoccerTwos/SoccerTwos_Data/MonoBleedingEdge/etc/mono/mconfig/\n",
            "  inflating: SoccerTwos/SoccerTwos_Data/MonoBleedingEdge/etc/mono/mconfig/config.xml  \n",
            "   creating: SoccerTwos/SoccerTwos_Data/MonoBleedingEdge/x86_64/\n",
            "  inflating: SoccerTwos/SoccerTwos_Data/MonoBleedingEdge/x86_64/libmono-native.so  \n",
            "  inflating: SoccerTwos/SoccerTwos_Data/MonoBleedingEdge/x86_64/libmonobdwgc-2.0.so  \n",
            "  inflating: SoccerTwos/SoccerTwos_Data/MonoBleedingEdge/x86_64/libMonoPosixHelper.so  \n",
            "   creating: SoccerTwos/SoccerTwos_Data/Plugins/\n",
            "  inflating: SoccerTwos/SoccerTwos_Data/Plugins/libgrpc_csharp_ext.x64.so  \n",
            "  inflating: SoccerTwos/SoccerTwos_Data/Plugins/lib_burst_generated.so  \n",
            "   creating: SoccerTwos/SoccerTwos_Data/Resources/\n",
            "  inflating: SoccerTwos/SoccerTwos_Data/Resources/unity default resources  \n",
            "  inflating: SoccerTwos/SoccerTwos_Data/Resources/UnityPlayer.png  \n",
            "  inflating: SoccerTwos/SoccerTwos_Data/Resources/unity_builtin_extra  \n",
            "  inflating: SoccerTwos/SoccerTwos_Data/resources.assets  \n",
            "  inflating: SoccerTwos/SoccerTwos_Data/resources.assets.resS  \n",
            "  inflating: SoccerTwos/SoccerTwos_Data/RuntimeInitializeOnLoads.json  \n",
            "  inflating: SoccerTwos/SoccerTwos_Data/ScriptingAssemblies.json  \n",
            "  inflating: SoccerTwos/SoccerTwos_Data/sharedassets0.assets  \n",
            "  inflating: SoccerTwos/SoccerTwos_Data/sharedassets0.assets.resS  \n",
            "  inflating: SoccerTwos/SoccerTwos.x86_64  \n",
            "  inflating: SoccerTwos/UnityPlayer.so  \n",
            "   creating: SoccerTwos/SoccerTwos_BurstDebugInformation_DoNotShip/\n",
            "   creating: SoccerTwos/SoccerTwos_BurstDebugInformation_DoNotShip/Data/\n",
            "   creating: SoccerTwos/SoccerTwos_BurstDebugInformation_DoNotShip/Data/Plugins/\n",
            "  inflating: SoccerTwos/SoccerTwos_BurstDebugInformation_DoNotShip/Data/Plugins/lib_burst_generated.txt  \n"
          ]
        }
      ]
    },
    {
      "cell_type": "code",
      "source": [
        "!chmod -R 755 /content/gdrive/MyDrive/rl/SoccerTwos/SoccerTwos.x86_64"
      ],
      "metadata": {
        "id": "o9qeuf08QJg2"
      },
      "execution_count": 21,
      "outputs": []
    },
    {
      "cell_type": "code",
      "source": [
        "# protobuf was throwing a version error, this fixes the error, and runs slower \n",
        "import os\n",
        "os.environ['PROTOCOL_BUFFERS_PYTHON_IMPLEMENTATION']='python'"
      ],
      "metadata": {
        "id": "PnrZ2sPOPqKI"
      },
      "execution_count": 22,
      "outputs": []
    },
    {
      "cell_type": "code",
      "source": [
        "!mlagents-learn /content/gdrive/MyDrive/rl/ml-agents/config/poca/SoccerTwos.yaml --env /content/gdrive/MyDrive/rl/SoccerTwos/SoccerTwos.x86_64 --run-id=\"resnet_v2\" --no-graphics"
      ],
      "metadata": {
        "id": "OHffVc6nDEYG",
        "colab": {
          "base_uri": "https://localhost:8080/"
        },
        "outputId": "9471a513-9ede-42bf-89ba-9e817b362dab"
      },
      "execution_count": 37,
      "outputs": [
        {
          "output_type": "stream",
          "name": "stdout",
          "text": [
            "\n",
            "            ┐  ╖\n",
            "        ╓╖╬│╡  ││╬╖╖\n",
            "    ╓╖╬│││││┘  ╬│││││╬╖\n",
            " ╖╬│││││╬╜        ╙╬│││││╖╖                               ╗╗╗\n",
            " ╬╬╬╬╖││╦╖        ╖╬││╗╣╣╣╬      ╟╣╣╬    ╟╣╣╣             ╜╜╜  ╟╣╣\n",
            " ╬╬╬╬╬╬╬╬╖│╬╖╖╓╬╪│╓╣╣╣╣╣╣╣╬      ╟╣╣╬    ╟╣╣╣ ╒╣╣╖╗╣╣╣╗   ╣╣╣ ╣╣╣╣╣╣ ╟╣╣╖   ╣╣╣\n",
            " ╬╬╬╬┐  ╙╬╬╬╬│╓╣╣╣╝╜  ╫╣╣╣╬      ╟╣╣╬    ╟╣╣╣ ╟╣╣╣╙ ╙╣╣╣  ╣╣╣ ╙╟╣╣╜╙  ╫╣╣  ╟╣╣\n",
            " ╬╬╬╬┐     ╙╬╬╣╣      ╫╣╣╣╬      ╟╣╣╬    ╟╣╣╣ ╟╣╣╬   ╣╣╣  ╣╣╣  ╟╣╣     ╣╣╣┌╣╣╜\n",
            " ╬╬╬╜       ╬╬╣╣      ╙╝╣╣╬      ╙╣╣╣╗╖╓╗╣╣╣╜ ╟╣╣╬   ╣╣╣  ╣╣╣  ╟╣╣╦╓    ╣╣╣╣╣\n",
            " ╙   ╓╦╖    ╬╬╣╣   ╓╗╗╖            ╙╝╣╣╣╣╝╜   ╘╝╝╜   ╝╝╝  ╝╝╝   ╙╣╣╣    ╟╣╣╣\n",
            "   ╩╬╬╬╬╬╬╦╦╬╬╣╣╗╣╣╣╣╣╣╣╝                                             ╫╣╣╣╣\n",
            "      ╙╬╬╬╬╬╬╬╣╣╣╣╣╣╝╜\n",
            "          ╙╬╬╬╣╣╣╜\n",
            "             ╙\n",
            "        \n",
            " Version information:\n",
            "  ml-agents: 0.31.0.dev0,\n",
            "  ml-agents-envs: 0.31.0.dev0,\n",
            "  Communicator API: 1.5.0,\n",
            "  PyTorch: 1.8.1+cu102\n",
            "[INFO] Connected to Unity environment with package version 2.3.0-exp.3 and communication version 1.5.0\n",
            "[INFO] Connected new brain: SoccerTwos?team=1\n",
            "[INFO] Connected new brain: SoccerTwos?team=0\n",
            "[INFO] Hyperparameters for behavior name SoccerTwos: \n",
            "\ttrainer_type:\tpoca\n",
            "\thyperparameters:\t\n",
            "\t  batch_size:\t16384\n",
            "\t  buffer_size:\t163840\n",
            "\t  learning_rate:\t0.0012\n",
            "\t  beta:\t0.005\n",
            "\t  epsilon:\t0.2\n",
            "\t  lambd:\t0.95\n",
            "\t  num_epoch:\t3\n",
            "\t  learning_rate_schedule:\tlinear\n",
            "\t  beta_schedule:\tlinear\n",
            "\t  epsilon_schedule:\tlinear\n",
            "\tcheckpoint_interval:\t500000\n",
            "\tnetwork_settings:\t\n",
            "\t  normalize:\tFalse\n",
            "\t  hidden_units:\t512\n",
            "\t  num_layers:\t2\n",
            "\t  vis_encode_type:\tresnet\n",
            "\t  memory:\tNone\n",
            "\t  goal_conditioning_type:\thyper\n",
            "\t  deterministic:\tFalse\n",
            "\treward_signals:\t\n",
            "\t  extrinsic:\t\n",
            "\t    gamma:\t0.99\n",
            "\t    strength:\t1.0\n",
            "\t    network_settings:\t\n",
            "\t      normalize:\tFalse\n",
            "\t      hidden_units:\t128\n",
            "\t      num_layers:\t2\n",
            "\t      vis_encode_type:\tsimple\n",
            "\t      memory:\tNone\n",
            "\t      goal_conditioning_type:\thyper\n",
            "\t      deterministic:\tFalse\n",
            "\tinit_path:\tNone\n",
            "\tkeep_checkpoints:\t20\n",
            "\teven_checkpoints:\tFalse\n",
            "\tmax_steps:\t60000\n",
            "\ttime_horizon:\t1000\n",
            "\tsummary_freq:\t10000\n",
            "\tthreaded:\tFalse\n",
            "\tself_play:\t\n",
            "\t  save_steps:\t50000\n",
            "\t  team_change:\t200000\n",
            "\t  swap_steps:\t2000\n",
            "\t  window:\t10\n",
            "\t  play_against_latest_model_ratio:\t0.5\n",
            "\t  initial_elo:\t1200.0\n",
            "\tbehavioral_cloning:\tNone\n",
            "[WARNING] The max steps of the GhostTrainer for behavior name SoccerTwos is less than team change. This team will not face                 opposition that has been trained if the opposition is managed by a different GhostTrainer as in an                 asymmetric game.\n",
            "[INFO] SoccerTwos. Step: 10000. Time Elapsed: 246.597 s. Mean Reward: 0.000. Mean Group Reward: -0.702. Training. ELO: 1199.106.\n",
            "[INFO] SoccerTwos. Step: 20000. Time Elapsed: 430.672 s. Mean Reward: 0.000. Mean Group Reward: 0.092. Training. ELO: 1197.168.\n",
            "[INFO] SoccerTwos. Step: 30000. Time Elapsed: 577.699 s. Mean Reward: 0.000. Mean Group Reward: -0.201. Training. ELO: 1197.115.\n",
            "[INFO] SoccerTwos. Step: 40000. Time Elapsed: 720.437 s. Mean Reward: 0.000. Mean Group Reward: -0.211. Training. ELO: 1195.419.\n",
            "[INFO] SoccerTwos. Step: 50000. Time Elapsed: 848.347 s. Mean Reward: 0.000. Mean Group Reward: -0.024. Training. ELO: 1194.762.\n",
            "[INFO] SoccerTwos. Step: 60000. Time Elapsed: 1004.103 s. Mean Reward: 0.000. Mean Group Reward: -0.140. Training. ELO: 1193.439.\n",
            "[INFO] Exported results/resnet_v2/SoccerTwos/SoccerTwos-60602.onnx\n",
            "[INFO] Copied results/resnet_v2/SoccerTwos/SoccerTwos-60602.onnx to results/resnet_v2/SoccerTwos.onnx.\n"
          ]
        }
      ]
    },
    {
      "cell_type": "code",
      "source": [
        "!mlagents-learn /content/gdrive/MyDrive/rl/ml-agents/config/poca/SoccerTwos.yaml --env /content/gdrive/MyDrive/rl/SoccerTwos/SoccerTwos.x86_64 --run-id=\"resnet_v3\" --no-graphics --initialize-from='resnet_v2'"
      ],
      "metadata": {
        "colab": {
          "base_uri": "https://localhost:8080/"
        },
        "id": "o3W5zuc-PoLN",
        "outputId": "2610bc2f-eac5-480b-d7d8-28f797eec480"
      },
      "execution_count": null,
      "outputs": [
        {
          "output_type": "stream",
          "name": "stdout",
          "text": [
            "\n",
            "            ┐  ╖\n",
            "        ╓╖╬│╡  ││╬╖╖\n",
            "    ╓╖╬│││││┘  ╬│││││╬╖\n",
            " ╖╬│││││╬╜        ╙╬│││││╖╖                               ╗╗╗\n",
            " ╬╬╬╬╖││╦╖        ╖╬││╗╣╣╣╬      ╟╣╣╬    ╟╣╣╣             ╜╜╜  ╟╣╣\n",
            " ╬╬╬╬╬╬╬╬╖│╬╖╖╓╬╪│╓╣╣╣╣╣╣╣╬      ╟╣╣╬    ╟╣╣╣ ╒╣╣╖╗╣╣╣╗   ╣╣╣ ╣╣╣╣╣╣ ╟╣╣╖   ╣╣╣\n",
            " ╬╬╬╬┐  ╙╬╬╬╬│╓╣╣╣╝╜  ╫╣╣╣╬      ╟╣╣╬    ╟╣╣╣ ╟╣╣╣╙ ╙╣╣╣  ╣╣╣ ╙╟╣╣╜╙  ╫╣╣  ╟╣╣\n",
            " ╬╬╬╬┐     ╙╬╬╣╣      ╫╣╣╣╬      ╟╣╣╬    ╟╣╣╣ ╟╣╣╬   ╣╣╣  ╣╣╣  ╟╣╣     ╣╣╣┌╣╣╜\n",
            " ╬╬╬╜       ╬╬╣╣      ╙╝╣╣╬      ╙╣╣╣╗╖╓╗╣╣╣╜ ╟╣╣╬   ╣╣╣  ╣╣╣  ╟╣╣╦╓    ╣╣╣╣╣\n",
            " ╙   ╓╦╖    ╬╬╣╣   ╓╗╗╖            ╙╝╣╣╣╣╝╜   ╘╝╝╜   ╝╝╝  ╝╝╝   ╙╣╣╣    ╟╣╣╣\n",
            "   ╩╬╬╬╬╬╬╦╦╬╬╣╣╗╣╣╣╣╣╣╣╝                                             ╫╣╣╣╣\n",
            "      ╙╬╬╬╬╬╬╬╣╣╣╣╣╣╝╜\n",
            "          ╙╬╬╬╣╣╣╜\n",
            "             ╙\n",
            "        \n",
            " Version information:\n",
            "  ml-agents: 0.31.0.dev0,\n",
            "  ml-agents-envs: 0.31.0.dev0,\n",
            "  Communicator API: 1.5.0,\n",
            "  PyTorch: 1.8.1+cu102\n",
            "[INFO] Connected to Unity environment with package version 2.3.0-exp.3 and communication version 1.5.0\n",
            "[INFO] Connected new brain: SoccerTwos?team=1\n",
            "[INFO] Connected new brain: SoccerTwos?team=0\n",
            "[INFO] Hyperparameters for behavior name SoccerTwos: \n",
            "\ttrainer_type:\tpoca\n",
            "\thyperparameters:\t\n",
            "\t  batch_size:\t8192\n",
            "\t  buffer_size:\t81920\n",
            "\t  learning_rate:\t0.0012\n",
            "\t  beta:\t0.005\n",
            "\t  epsilon:\t0.2\n",
            "\t  lambd:\t0.95\n",
            "\t  num_epoch:\t3\n",
            "\t  learning_rate_schedule:\tlinear\n",
            "\t  beta_schedule:\tlinear\n",
            "\t  epsilon_schedule:\tlinear\n",
            "\tcheckpoint_interval:\t500000\n",
            "\tnetwork_settings:\t\n",
            "\t  normalize:\tFalse\n",
            "\t  hidden_units:\t512\n",
            "\t  num_layers:\t2\n",
            "\t  vis_encode_type:\tresnet\n",
            "\t  memory:\tNone\n",
            "\t  goal_conditioning_type:\thyper\n",
            "\t  deterministic:\tFalse\n",
            "\treward_signals:\t\n",
            "\t  extrinsic:\t\n",
            "\t    gamma:\t0.99\n",
            "\t    strength:\t1.0\n",
            "\t    network_settings:\t\n",
            "\t      normalize:\tFalse\n",
            "\t      hidden_units:\t128\n",
            "\t      num_layers:\t2\n",
            "\t      vis_encode_type:\tsimple\n",
            "\t      memory:\tNone\n",
            "\t      goal_conditioning_type:\thyper\n",
            "\t      deterministic:\tFalse\n",
            "\tinit_path:\tresults/resnet_v2/SoccerTwos/checkpoint.pt\n",
            "\tkeep_checkpoints:\t20\n",
            "\teven_checkpoints:\tFalse\n",
            "\tmax_steps:\t500000\n",
            "\ttime_horizon:\t1000\n",
            "\tsummary_freq:\t10000\n",
            "\tthreaded:\tFalse\n",
            "\tself_play:\t\n",
            "\t  save_steps:\t50000\n",
            "\t  team_change:\t200000\n",
            "\t  swap_steps:\t2000\n",
            "\t  window:\t10\n",
            "\t  play_against_latest_model_ratio:\t0.5\n",
            "\t  initial_elo:\t1200.0\n",
            "\tbehavioral_cloning:\tNone\n",
            "[INFO] Initializing from results/resnet_v2/SoccerTwos/checkpoint.pt.\n",
            "[INFO] Starting training from step 0 and saving to results/resnet_v3/SoccerTwos.\n"
          ]
        }
      ]
    },
    {
      "cell_type": "code",
      "source": [
        "import yaml\n",
        "\n",
        "with open(\"/content/gdrive/MyDrive/rl/ml-agents/config/poca/SoccerTwos.yaml\", 'r') as f:\n",
        "    data_loaded = yaml.safe_load(f)\n",
        "    print(data_loaded)"
      ],
      "metadata": {
        "colab": {
          "base_uri": "https://localhost:8080/"
        },
        "id": "-sYDtGgdIbQR",
        "outputId": "96f55172-0be4-4f61-dba1-27be3cdbf899"
      },
      "execution_count": 43,
      "outputs": [
        {
          "output_type": "stream",
          "name": "stdout",
          "text": [
            "{'behaviors': {'SoccerTwos': {'hyperparameters': {'batch_size': 8192, 'beta': 0.005, 'beta_schedule': 'linear', 'buffer_size': 81920, 'epsilon': 0.2, 'epsilon_schedule': 'linear', 'lambd': 0.95, 'learning_rate': 0.0012, 'learning_rate_schedule': 'linear', 'num_epoch': 3}, 'keep_checkpoints': 20, 'max_steps': 500000, 'network_settings': {'hidden_units': 512, 'normalize': False, 'num_layers': 2, 'vis_encode_type': 'resnet'}, 'reward_signals': {'extrinsic': {'gamma': 0.99, 'strength': 1.0}}, 'self_play': {'initial_elo': 1200.0, 'play_against_latest_model_ratio': 0.5, 'save_steps': 50000, 'swap_steps': 2000, 'team_change': 200000, 'window': 10}, 'summary_freq': 10000, 'time_horizon': 1000, 'trainer_type': 'poca'}}}\n"
          ]
        }
      ]
    },
    {
      "cell_type": "code",
      "source": [
        "data_loaded['behaviors']['SoccerTwos']['max_steps'] = 60000"
      ],
      "metadata": {
        "id": "tNI0qgyEL3kQ"
      },
      "execution_count": 34,
      "outputs": []
    },
    {
      "cell_type": "markdown",
      "source": [],
      "metadata": {
        "id": "9oxXcAclj_uq"
      }
    },
    {
      "cell_type": "code",
      "source": [
        "data_loaded['behaviors']['SoccerTwos']['hyperparameters']['batch_size'] = 8192 #4096\n",
        "data_loaded['behaviors']['SoccerTwos']['hyperparameters']['buffer_size'] = 81920 #40960\n",
        "data_loaded['behaviors']['SoccerTwos']['hyperparameters']['learning_rate'] = 0.0012\n",
        "data_loaded['behaviors']['SoccerTwos']['hyperparameters']['learning_rate_schedule'] = 'linear'\n",
        "data_loaded['behaviors']['SoccerTwos']['hyperparameters']['beta_schedule'] = 'linear'\n",
        "data_loaded['behaviors']['SoccerTwos']['hyperparameters']['epsilon_schedule'] = 'linear'\n",
        "data_loaded['behaviors']['SoccerTwos']['network_settings']['vis_encode_type'] = 'resnet'\n",
        "data_loaded['behaviors']['SoccerTwos']['keep_checkpoints'] = 20\n",
        "data_loaded['behaviors']['SoccerTwos']['max_steps'] = 500000\n",
        "data_loaded['behaviors']['SoccerTwos']['checkpoint_interval'] = 300000"
      ],
      "metadata": {
        "id": "4xs5kckYIfYw"
      },
      "execution_count": 41,
      "outputs": []
    },
    {
      "cell_type": "code",
      "source": [
        "with open(\"/content/gdrive/MyDrive/rl/ml-agents/config/poca/SoccerTwos.yaml\", 'w') as outfile:\n",
        "    yaml.dump(data_loaded, outfile, default_flow_style=False)"
      ],
      "metadata": {
        "id": "aNLaBRzEIkz_"
      },
      "execution_count": 42,
      "outputs": []
    }
  ]
}