{
  "nbformat": 4,
  "nbformat_minor": 0,
  "metadata": {
    "colab": {
      "provenance": [],
      "include_colab_link": true
    },
    "kernelspec": {
      "name": "python3",
      "display_name": "Python 3"
    },
    "language_info": {
      "name": "python"
    },
    "accelerator": "GPU",
    "gpuClass": "standard"
  },
  "cells": [
    {
      "cell_type": "markdown",
      "metadata": {
        "id": "view-in-github",
        "colab_type": "text"
      },
      "source": [
        "<a href=\"https://colab.research.google.com/github/gmojko/rl_hf/blob/main/unit7.ipynb\" target=\"_parent\"><img src=\"https://colab.research.google.com/assets/colab-badge.svg\" alt=\"Open In Colab\"/></a>"
      ]
    },
    {
      "cell_type": "markdown",
      "source": [
        "## Upgrade to python 3.9"
      ],
      "metadata": {
        "id": "0cGhlj8zHk8X"
      }
    },
    {
      "cell_type": "code",
      "source": [
        "!pip install -q condacolab\n",
        "import condacolab\n",
        "condacolab.install()"
      ],
      "metadata": {
        "colab": {
          "base_uri": "https://localhost:8080/"
        },
        "id": "sKgOhsQeNzyp",
        "outputId": "853fd68e-fb18-4d1e-f75b-0e399f13fe77"
      },
      "execution_count": 1,
      "outputs": [
        {
          "output_type": "stream",
          "name": "stdout",
          "text": [
            "⏬ Downloading https://github.com/jaimergp/miniforge/releases/latest/download/Mambaforge-colab-Linux-x86_64.sh...\n",
            "📦 Installing...\n",
            "📌 Adjusting configuration...\n",
            "🩹 Patching environment...\n",
            "⏲ Done in 0:00:19\n",
            "🔁 Restarting kernel...\n"
          ]
        }
      ]
    },
    {
      "cell_type": "code",
      "source": [
        "!conda create --name rl python=3.9\n",
        "!conda activate rl"
      ],
      "metadata": {
        "colab": {
          "base_uri": "https://localhost:8080/"
        },
        "id": "l5fKtO8MNpnE",
        "outputId": "35bb28a4-3e1f-424f-c904-2116cbef7b0a"
      },
      "execution_count": 2,
      "outputs": [
        {
          "output_type": "stream",
          "name": "stdout",
          "text": [
            "Collecting package metadata (current_repodata.json): - \b\b\\ \b\b| \b\b/ \b\b- \b\b\\ \b\b| \b\b/ \b\b- \b\b\\ \b\b| \b\b/ \b\b- \b\b\\ \b\b| \b\b/ \b\b- \b\b\\ \b\b| \b\b/ \b\b- \b\b\\ \b\b| \b\b/ \b\b- \b\b\\ \b\b| \b\b/ \b\b- \b\b\\ \b\b| \b\b/ \b\b- \b\b\\ \b\b| \b\b/ \b\b- \b\b\\ \b\b| \b\b/ \b\b- \b\b\\ \b\b| \b\b/ \b\b- \b\b\\ \b\b| \b\b/ \b\b- \b\b\\ \b\b| \b\b/ \b\b- \b\b\\ \b\b| \b\b/ \b\b- \b\b\\ \b\b| \b\b/ \b\b- \b\b\\ \b\b| \b\b/ \b\b- \b\b\\ \b\b| \b\b/ \b\b- \b\b\\ \b\b| \b\b/ \b\b- \b\b\\ \b\b| \b\b/ \b\b- \b\b\\ \b\b| \b\b/ \b\b- \b\b\\ \b\b| \b\b/ \b\b- \b\b\\ \b\b| \b\b/ \b\b- \b\b\\ \b\b| \b\b/ \b\b- \b\b\\ \b\b| \b\b/ \b\b- \b\b\\ \b\b| \b\b/ \b\b- \b\b\\ \b\b| \b\b/ \b\b- \b\b\\ \b\b| \b\b/ \b\b- \b\b\\ \b\b| \b\b/ \b\b- \b\b\\ \b\b| \b\b/ \b\b- \b\b\\ \b\b| \b\b/ \b\b- \b\b\\ \b\b| \b\b/ \b\b- \b\b\\ \b\b| \b\b/ \b\b- \b\bdone\n",
            "Solving environment: | \b\b/ \b\bdone\n",
            "\n",
            "\n",
            "==> WARNING: A newer version of conda exists. <==\n",
            "  current version: 22.9.0\n",
            "  latest version: 23.1.0\n",
            "\n",
            "Please update conda by running\n",
            "\n",
            "    $ conda update -n base -c conda-forge conda\n",
            "\n",
            "\n",
            "\n",
            "## Package Plan ##\n",
            "\n",
            "  environment location: /usr/local/envs/rl\n",
            "\n",
            "  added / updated specs:\n",
            "    - python=3.9\n",
            "\n",
            "\n",
            "The following packages will be downloaded:\n",
            "\n",
            "    package                    |            build\n",
            "    ---------------------------|-----------------\n",
            "    ca-certificates-2022.12.7  |       ha878542_0         143 KB  conda-forge\n",
            "    ld_impl_linux-64-2.40      |       h41732ed_0         688 KB  conda-forge\n",
            "    openssl-3.0.8              |       h0b41bf4_0         2.5 MB  conda-forge\n",
            "    pip-23.0.1                 |     pyhd8ed1ab_0         1.3 MB  conda-forge\n",
            "    python-3.9.16              |h2782a2a_0_cpython        23.0 MB  conda-forge\n",
            "    setuptools-67.4.0          |     pyhd8ed1ab_0         567 KB  conda-forge\n",
            "    tzdata-2022g               |       h191b570_0         106 KB  conda-forge\n",
            "    ------------------------------------------------------------\n",
            "                                           Total:        28.3 MB\n",
            "\n",
            "The following NEW packages will be INSTALLED:\n",
            "\n",
            "  _libgcc_mutex      conda-forge/linux-64::_libgcc_mutex-0.1-conda_forge None\n",
            "  _openmp_mutex      conda-forge/linux-64::_openmp_mutex-4.5-2_gnu None\n",
            "  bzip2              conda-forge/linux-64::bzip2-1.0.8-h7f98852_4 None\n",
            "  ca-certificates    conda-forge/linux-64::ca-certificates-2022.12.7-ha878542_0 None\n",
            "  ld_impl_linux-64   conda-forge/linux-64::ld_impl_linux-64-2.40-h41732ed_0 None\n",
            "  libffi             conda-forge/linux-64::libffi-3.4.2-h7f98852_5 None\n",
            "  libgcc-ng          conda-forge/linux-64::libgcc-ng-12.2.0-h65d4601_19 None\n",
            "  libgomp            conda-forge/linux-64::libgomp-12.2.0-h65d4601_19 None\n",
            "  libnsl             conda-forge/linux-64::libnsl-2.0.0-h7f98852_0 None\n",
            "  libsqlite          conda-forge/linux-64::libsqlite-3.40.0-h753d276_0 None\n",
            "  libuuid            conda-forge/linux-64::libuuid-2.32.1-h7f98852_1000 None\n",
            "  libzlib            conda-forge/linux-64::libzlib-1.2.13-h166bdaf_4 None\n",
            "  ncurses            conda-forge/linux-64::ncurses-6.3-h27087fc_1 None\n",
            "  openssl            conda-forge/linux-64::openssl-3.0.8-h0b41bf4_0 None\n",
            "  pip                conda-forge/noarch::pip-23.0.1-pyhd8ed1ab_0 None\n",
            "  python             conda-forge/linux-64::python-3.9.16-h2782a2a_0_cpython None\n",
            "  readline           conda-forge/linux-64::readline-8.1.2-h0f457ee_0 None\n",
            "  setuptools         conda-forge/noarch::setuptools-67.4.0-pyhd8ed1ab_0 None\n",
            "  tk                 conda-forge/linux-64::tk-8.6.12-h27826a3_0 None\n",
            "  tzdata             conda-forge/noarch::tzdata-2022g-h191b570_0 None\n",
            "  wheel              conda-forge/noarch::wheel-0.38.4-pyhd8ed1ab_0 None\n",
            "  xz                 conda-forge/linux-64::xz-5.2.6-h166bdaf_0 None\n",
            "\n",
            "\n",
            "\n",
            "Downloading and Extracting Packages\n",
            "pip-23.0.1           | 1.3 MB    | : 100% 1.0/1 [00:00<00:00,  3.03it/s]\n",
            "ca-certificates-2022 | 143 KB    | : 100% 1.0/1 [00:00<00:00, 21.74it/s]\n",
            "openssl-3.0.8        | 2.5 MB    | : 100% 1.0/1 [00:00<00:00,  7.12it/s]\n",
            "python-3.9.16        | 23.0 MB   | : 100% 1.0/1 [00:01<00:00,  1.10s/it]               \n",
            "setuptools-67.4.0    | 567 KB    | : 100% 1.0/1 [00:00<00:00,  7.24it/s]\n",
            "tzdata-2022g         | 106 KB    | : 100% 1.0/1 [00:00<00:00,  6.02it/s]\n",
            "ld_impl_linux-64-2.4 | 688 KB    | : 100% 1.0/1 [00:00<00:00, 18.06it/s]\n",
            "Preparing transaction: \\ \b\b| \b\b/ \b\bdone\n",
            "Verifying transaction: \\ \b\b| \b\b/ \b\b- \b\b\\ \b\b| \b\b/ \b\b- \b\b\\ \b\b| \b\b/ \b\bdone\n",
            "Executing transaction: \\ \b\b| \b\b/ \b\b- \b\b\\ \b\b| \b\b/ \b\b- \b\b\\ \b\b| \b\b/ \b\b- \b\b\\ \b\b| \b\b/ \b\b- \b\b\\ \b\b| \b\b/ \b\b- \b\b\\ \b\b| \b\b/ \b\b- \b\b\\ \b\b| \b\b/ \b\b- \b\b\\ \b\b| \b\b/ \b\b- \b\b\\ \b\bdone\n",
            "#\n",
            "# To activate this environment, use\n",
            "#\n",
            "#     $ conda activate rl\n",
            "#\n",
            "# To deactivate an active environment, use\n",
            "#\n",
            "#     $ conda deactivate\n",
            "\n",
            "Retrieving notices: ...working... done\n",
            "\n",
            "CommandNotFoundError: Your shell has not been properly configured to use 'conda activate'.\n",
            "To initialize your shell, run\n",
            "\n",
            "    $ conda init <SHELL_NAME>\n",
            "\n",
            "Currently supported shells are:\n",
            "  - bash\n",
            "  - fish\n",
            "  - tcsh\n",
            "  - xonsh\n",
            "  - zsh\n",
            "  - powershell\n",
            "\n",
            "See 'conda init --help' for more information and options.\n",
            "\n",
            "IMPORTANT: You may need to close and restart your shell after running 'conda init'.\n",
            "\n",
            "\n"
          ]
        }
      ]
    },
    {
      "cell_type": "markdown",
      "source": [
        "## Follow regular instructions"
      ],
      "metadata": {
        "id": "4jf9dSGpKCel"
      }
    },
    {
      "cell_type": "code",
      "source": [
        "# !pip install torch"
      ],
      "metadata": {
        "id": "lFhlcFqO9WCR"
      },
      "execution_count": null,
      "outputs": []
    },
    {
      "cell_type": "code",
      "execution_count": 1,
      "metadata": {
        "id": "sMuw71XZ9KVv",
        "colab": {
          "base_uri": "https://localhost:8080/"
        },
        "outputId": "2ccd97af-428c-4461-9c3e-57ba5ba96f4b"
      },
      "outputs": [
        {
          "output_type": "stream",
          "name": "stdout",
          "text": [
            "Cloning into 'ml-agents'...\n",
            "remote: Enumerating objects: 85459, done.\u001b[K\n",
            "remote: Counting objects: 100% (1/1), done.\u001b[K\n",
            "remote: Total 85459 (delta 0), reused 0 (delta 0), pack-reused 85458\u001b[K\n",
            "Receiving objects: 100% (85459/85459), 2.48 GiB | 34.48 MiB/s, done.\n",
            "Resolving deltas: 100% (62411/62411), done.\n",
            "Updating files: 100% (2159/2159), done.\n"
          ]
        }
      ],
      "source": [
        "!git clone --branch aivsai https://github.com/huggingface/ml-agents"
      ]
    },
    {
      "cell_type": "code",
      "source": [
        "!pip install /content/ml-agents/ml-agents-envs\n",
        "!pip install /content/ml-agents/ml-agents"
      ],
      "metadata": {
        "id": "YtlQDAKZDqy-",
        "colab": {
          "base_uri": "https://localhost:8080/",
          "height": 1000
        },
        "outputId": "2352a390-1c67-4d02-9258-a665b63feac9"
      },
      "execution_count": 2,
      "outputs": [
        {
          "output_type": "stream",
          "name": "stdout",
          "text": [
            "Looking in indexes: https://pypi.org/simple, https://us-python.pkg.dev/colab-wheels/public/simple/\n",
            "Processing ./ml-agents/ml-agents-envs\n",
            "  Preparing metadata (setup.py) ... \u001b[?25l\u001b[?25hdone\n",
            "Collecting cloudpickle\n",
            "  Downloading cloudpickle-2.2.1-py3-none-any.whl (25 kB)\n",
            "Collecting grpcio>=1.11.0\n",
            "  Downloading grpcio-1.51.3-cp38-cp38-manylinux_2_17_x86_64.manylinux2014_x86_64.whl (4.8 MB)\n",
            "\u001b[2K     \u001b[90m━━━━━━━━━━━━━━━━━━━━━━━━━━━━━━━━━━━━━━━━\u001b[0m \u001b[32m4.8/4.8 MB\u001b[0m \u001b[31m43.4 MB/s\u001b[0m eta \u001b[36m0:00:00\u001b[0m\n",
            "\u001b[?25hCollecting numpy>=1.14.1\n",
            "  Downloading numpy-1.24.2-cp38-cp38-manylinux_2_17_x86_64.manylinux2014_x86_64.whl (17.3 MB)\n",
            "\u001b[2K     \u001b[90m━━━━━━━━━━━━━━━━━━━━━━━━━━━━━━━━━━━━━━━━\u001b[0m \u001b[32m17.3/17.3 MB\u001b[0m \u001b[31m67.6 MB/s\u001b[0m eta \u001b[36m0:00:00\u001b[0m\n",
            "\u001b[?25hCollecting Pillow>=4.2.1\n",
            "  Downloading Pillow-9.4.0-cp38-cp38-manylinux_2_28_x86_64.whl (3.4 MB)\n",
            "\u001b[2K     \u001b[90m━━━━━━━━━━━━━━━━━━━━━━━━━━━━━━━━━━━━━━━━\u001b[0m \u001b[32m3.4/3.4 MB\u001b[0m \u001b[31m90.9 MB/s\u001b[0m eta \u001b[36m0:00:00\u001b[0m\n",
            "\u001b[?25hCollecting protobuf>=3.6\n",
            "  Downloading protobuf-4.22.0-cp37-abi3-manylinux2014_x86_64.whl (302 kB)\n",
            "\u001b[2K     \u001b[90m━━━━━━━━━━━━━━━━━━━━━━━━━━━━━━━━━━━━━━\u001b[0m \u001b[32m302.4/302.4 kB\u001b[0m \u001b[31m24.6 MB/s\u001b[0m eta \u001b[36m0:00:00\u001b[0m\n",
            "\u001b[?25hCollecting pyyaml>=3.1.0\n",
            "  Downloading PyYAML-6.0-cp38-cp38-manylinux_2_5_x86_64.manylinux1_x86_64.manylinux_2_12_x86_64.manylinux2010_x86_64.whl (701 kB)\n",
            "\u001b[2K     \u001b[90m━━━━━━━━━━━━━━━━━━━━━━━━━━━━━━━━━━━━━━\u001b[0m \u001b[32m701.2/701.2 kB\u001b[0m \u001b[31m45.9 MB/s\u001b[0m eta \u001b[36m0:00:00\u001b[0m\n",
            "\u001b[?25hCollecting gym>=0.21.0\n",
            "  Downloading gym-0.26.2.tar.gz (721 kB)\n",
            "\u001b[2K     \u001b[90m━━━━━━━━━━━━━━━━━━━━━━━━━━━━━━━━━━━━━━\u001b[0m \u001b[32m721.7/721.7 kB\u001b[0m \u001b[31m53.5 MB/s\u001b[0m eta \u001b[36m0:00:00\u001b[0m\n",
            "\u001b[?25h  Installing build dependencies ... \u001b[?25l\u001b[?25hdone\n",
            "  Getting requirements to build wheel ... \u001b[?25l\u001b[?25hdone\n",
            "  Preparing metadata (pyproject.toml) ... \u001b[?25l\u001b[?25hdone\n",
            "Collecting pettingzoo==1.15.0\n",
            "  Downloading PettingZoo-1.15.0.tar.gz (756 kB)\n",
            "\u001b[2K     \u001b[90m━━━━━━━━━━━━━━━━━━━━━━━━━━━━━━━━━━━━━━\u001b[0m \u001b[32m756.7/756.7 kB\u001b[0m \u001b[31m48.4 MB/s\u001b[0m eta \u001b[36m0:00:00\u001b[0m\n",
            "\u001b[?25h  Preparing metadata (setup.py) ... \u001b[?25l\u001b[?25hdone\n",
            "Collecting numpy>=1.14.1\n",
            "  Downloading numpy-1.21.2-cp38-cp38-manylinux_2_12_x86_64.manylinux2010_x86_64.whl (15.8 MB)\n",
            "\u001b[2K     \u001b[90m━━━━━━━━━━━━━━━━━━━━━━━━━━━━━━━━━━━━━━━━\u001b[0m \u001b[32m15.8/15.8 MB\u001b[0m \u001b[31m66.9 MB/s\u001b[0m eta \u001b[36m0:00:00\u001b[0m\n",
            "\u001b[?25hCollecting filelock>=3.4.0\n",
            "  Downloading filelock-3.9.0-py3-none-any.whl (9.7 kB)\n",
            "Collecting importlib-metadata>=4.8.0\n",
            "  Downloading importlib_metadata-6.0.0-py3-none-any.whl (21 kB)\n",
            "Collecting gym-notices>=0.0.4\n",
            "  Downloading gym_notices-0.0.8-py3-none-any.whl (3.0 kB)\n",
            "Collecting zipp>=0.5\n",
            "  Downloading zipp-3.15.0-py3-none-any.whl (6.8 kB)\n",
            "Building wheels for collected packages: mlagents-envs, pettingzoo, gym\n",
            "  Building wheel for mlagents-envs (setup.py) ... \u001b[?25l\u001b[?25hdone\n",
            "  Created wheel for mlagents-envs: filename=mlagents_envs-0.31.0.dev0-py3-none-any.whl size=88812 sha256=130091ee6996452386fabd86d8e3553a96f03665847ee453392771cc719cf952\n",
            "  Stored in directory: /root/.cache/pip/wheels/fe/f0/2b/110d12fa6d85a910097a50a7cb77d278bfb4b345c8e858bdb7\n",
            "  Building wheel for pettingzoo (setup.py) ... \u001b[?25l\u001b[?25hdone\n",
            "  Created wheel for pettingzoo: filename=PettingZoo-1.15.0-py3-none-any.whl size=875639 sha256=ba35835945c8f884b1503936bb20787ee968059bd149a0faa34b9d2263583197\n",
            "  Stored in directory: /root/.cache/pip/wheels/f1/35/21/42a486040dc8e3418992c80a814a27c9ab8aa771285af24866\n",
            "  Building wheel for gym (pyproject.toml) ... \u001b[?25l\u001b[?25hdone\n",
            "  Created wheel for gym: filename=gym-0.26.2-py3-none-any.whl size=827631 sha256=1097ee16b54cb1853d4cbed38d9c622dfe7750addcf2a326610dbccf101c20bc\n",
            "  Stored in directory: /root/.cache/pip/wheels/37/37/10/969be0b4bdeedbba8ecab056f1cbbf3a959cd7dffd435c9a39\n",
            "Successfully built mlagents-envs pettingzoo gym\n",
            "Installing collected packages: gym-notices, zipp, pyyaml, protobuf, Pillow, numpy, grpcio, filelock, cloudpickle, importlib-metadata, gym, pettingzoo, mlagents-envs\n",
            "Successfully installed Pillow-9.4.0 cloudpickle-2.2.1 filelock-3.9.0 grpcio-1.51.3 gym-0.26.2 gym-notices-0.0.8 importlib-metadata-6.0.0 mlagents-envs-0.31.0.dev0 numpy-1.21.2 pettingzoo-1.15.0 protobuf-4.22.0 pyyaml-6.0 zipp-3.15.0\n",
            "\u001b[33mWARNING: Running pip as the 'root' user can result in broken permissions and conflicting behaviour with the system package manager. It is recommended to use a virtual environment instead: https://pip.pypa.io/warnings/venv\u001b[0m\u001b[33m\n",
            "\u001b[0mLooking in indexes: https://pypi.org/simple, https://us-python.pkg.dev/colab-wheels/public/simple/\n",
            "Processing ./ml-agents/ml-agents\n",
            "  Preparing metadata (setup.py) ... \u001b[?25l\u001b[?25hdone\n",
            "Requirement already satisfied: grpcio>=1.11.0 in /usr/local/lib/python3.8/site-packages (from mlagents==0.31.0.dev0) (1.51.3)\n",
            "Collecting h5py>=2.9.0\n",
            "  Downloading h5py-3.8.0-cp38-cp38-manylinux_2_17_x86_64.manylinux2014_x86_64.whl (4.7 MB)\n",
            "\u001b[2K     \u001b[90m━━━━━━━━━━━━━━━━━━━━━━━━━━━━━━━━━━━━━━━━\u001b[0m \u001b[32m4.7/4.7 MB\u001b[0m \u001b[31m15.2 MB/s\u001b[0m eta \u001b[36m0:00:00\u001b[0m\n",
            "\u001b[?25hRequirement already satisfied: mlagents_envs==0.31.0.dev0 in /usr/local/lib/python3.8/site-packages (from mlagents==0.31.0.dev0) (0.31.0.dev0)\n",
            "Requirement already satisfied: numpy<2.0,>=1.13.3 in /usr/local/lib/python3.8/site-packages (from mlagents==0.31.0.dev0) (1.21.2)\n",
            "Requirement already satisfied: Pillow>=4.2.1 in /usr/local/lib/python3.8/site-packages (from mlagents==0.31.0.dev0) (9.4.0)\n",
            "Requirement already satisfied: protobuf>=3.6 in /usr/local/lib/python3.8/site-packages (from mlagents==0.31.0.dev0) (4.22.0)\n",
            "Requirement already satisfied: pyyaml>=3.1.0 in /usr/local/lib/python3.8/site-packages (from mlagents==0.31.0.dev0) (6.0)\n",
            "Collecting tensorboard>=1.15\n",
            "  Downloading tensorboard-2.12.0-py3-none-any.whl (5.6 MB)\n",
            "\u001b[2K     \u001b[90m━━━━━━━━━━━━━━━━━━━━━━━━━━━━━━━━━━━━━━━━\u001b[0m \u001b[32m5.6/5.6 MB\u001b[0m \u001b[31m32.4 MB/s\u001b[0m eta \u001b[36m0:00:00\u001b[0m\n",
            "\u001b[?25hCollecting attrs>=19.3.0\n",
            "  Downloading attrs-22.2.0-py3-none-any.whl (60 kB)\n",
            "\u001b[2K     \u001b[90m━━━━━━━━━━━━━━━━━━━━━━━━━━━━━━━━━━━━━━━━\u001b[0m \u001b[32m60.0/60.0 kB\u001b[0m \u001b[31m8.1 MB/s\u001b[0m eta \u001b[36m0:00:00\u001b[0m\n",
            "\u001b[?25hCollecting huggingface_hub~=0.8\n",
            "  Downloading huggingface_hub-0.12.1-py3-none-any.whl (190 kB)\n",
            "\u001b[2K     \u001b[90m━━━━━━━━━━━━━━━━━━━━━━━━━━━━━━━━━━━━━━\u001b[0m \u001b[32m190.3/190.3 kB\u001b[0m \u001b[31m20.4 MB/s\u001b[0m eta \u001b[36m0:00:00\u001b[0m\n",
            "\u001b[?25hCollecting torch<1.9.0,>=1.6.0\n",
            "  Downloading torch-1.8.1-cp38-cp38-manylinux1_x86_64.whl (804.1 MB)\n",
            "\u001b[2K     \u001b[90m━━━━━━━━━━━━━━━━━━━━━━━━━━━━━━━━━━━━━━━\u001b[0m \u001b[32m804.1/804.1 MB\u001b[0m \u001b[31m2.2 MB/s\u001b[0m eta \u001b[36m0:00:00\u001b[0m\n",
            "\u001b[?25hCollecting cattrs<1.7,>=1.1.0\n",
            "  Downloading cattrs-1.5.0-py3-none-any.whl (19 kB)\n",
            "Requirement already satisfied: pettingzoo==1.15.0 in /usr/local/lib/python3.8/site-packages (from mlagents_envs==0.31.0.dev0->mlagents==0.31.0.dev0) (1.15.0)\n",
            "Requirement already satisfied: filelock>=3.4.0 in /usr/local/lib/python3.8/site-packages (from mlagents_envs==0.31.0.dev0->mlagents==0.31.0.dev0) (3.9.0)\n",
            "Requirement already satisfied: gym>=0.21.0 in /usr/local/lib/python3.8/site-packages (from mlagents_envs==0.31.0.dev0->mlagents==0.31.0.dev0) (0.26.2)\n",
            "Requirement already satisfied: cloudpickle in /usr/local/lib/python3.8/site-packages (from mlagents_envs==0.31.0.dev0->mlagents==0.31.0.dev0) (2.2.1)\n",
            "Collecting tqdm>=4.42.1\n",
            "  Downloading tqdm-4.64.1-py2.py3-none-any.whl (78 kB)\n",
            "\u001b[2K     \u001b[90m━━━━━━━━━━━━━━━━━━━━━━━━━━━━━━━━━━━━━━━━\u001b[0m \u001b[32m78.5/78.5 kB\u001b[0m \u001b[31m10.3 MB/s\u001b[0m eta \u001b[36m0:00:00\u001b[0m\n",
            "\u001b[?25hCollecting packaging>=20.9\n",
            "  Downloading packaging-23.0-py3-none-any.whl (42 kB)\n",
            "\u001b[2K     \u001b[90m━━━━━━━━━━━━━━━━━━━━━━━━━━━━━━━━━━━━━━━━\u001b[0m \u001b[32m42.7/42.7 kB\u001b[0m \u001b[31m5.2 MB/s\u001b[0m eta \u001b[36m0:00:00\u001b[0m\n",
            "\u001b[?25hCollecting typing-extensions>=3.7.4.3\n",
            "  Downloading typing_extensions-4.5.0-py3-none-any.whl (27 kB)\n",
            "Requirement already satisfied: requests in /usr/local/lib/python3.8/site-packages (from huggingface_hub~=0.8->mlagents==0.31.0.dev0) (2.28.1)\n",
            "Collecting absl-py>=0.4\n",
            "  Downloading absl_py-1.4.0-py3-none-any.whl (126 kB)\n",
            "\u001b[2K     \u001b[90m━━━━━━━━━━━━━━━━━━━━━━━━━━━━━━━━━━━━━━\u001b[0m \u001b[32m126.5/126.5 kB\u001b[0m \u001b[31m16.8 MB/s\u001b[0m eta \u001b[36m0:00:00\u001b[0m\n",
            "\u001b[?25hCollecting google-auth<3,>=1.6.3\n",
            "  Downloading google_auth-2.16.1-py2.py3-none-any.whl (177 kB)\n",
            "\u001b[2K     \u001b[90m━━━━━━━━━━━━━━━━━━━━━━━━━━━━━━━━━━━━━━\u001b[0m \u001b[32m177.2/177.2 kB\u001b[0m \u001b[31m21.6 MB/s\u001b[0m eta \u001b[36m0:00:00\u001b[0m\n",
            "\u001b[?25hCollecting google-auth-oauthlib<0.5,>=0.4.1\n",
            "  Downloading google_auth_oauthlib-0.4.6-py2.py3-none-any.whl (18 kB)\n",
            "Collecting werkzeug>=1.0.1\n",
            "  Downloading Werkzeug-2.2.3-py3-none-any.whl (233 kB)\n",
            "\u001b[2K     \u001b[90m━━━━━━━━━━━━━━━━━━━━━━━━━━━━━━━━━━━━━━\u001b[0m \u001b[32m233.6/233.6 kB\u001b[0m \u001b[31m25.1 MB/s\u001b[0m eta \u001b[36m0:00:00\u001b[0m\n",
            "\u001b[?25hRequirement already satisfied: wheel>=0.26 in /usr/local/lib/python3.8/site-packages (from tensorboard>=1.15->mlagents==0.31.0.dev0) (0.38.4)\n",
            "Collecting tensorboard-plugin-wit>=1.6.0\n",
            "  Downloading tensorboard_plugin_wit-1.8.1-py3-none-any.whl (781 kB)\n",
            "\u001b[2K     \u001b[90m━━━━━━━━━━━━━━━━━━━━━━━━━━━━━━━━━━━━━━\u001b[0m \u001b[32m781.3/781.3 kB\u001b[0m \u001b[31m49.5 MB/s\u001b[0m eta \u001b[36m0:00:00\u001b[0m\n",
            "\u001b[?25hRequirement already satisfied: setuptools>=41.0.0 in /usr/local/lib/python3.8/site-packages (from tensorboard>=1.15->mlagents==0.31.0.dev0) (65.5.1)\n",
            "Collecting tensorboard-data-server<0.8.0,>=0.7.0\n",
            "  Downloading tensorboard_data_server-0.7.0-py3-none-manylinux2014_x86_64.whl (6.6 MB)\n",
            "\u001b[2K     \u001b[90m━━━━━━━━━━━━━━━━━━━━━━━━━━━━━━━━━━━━━━━━\u001b[0m \u001b[32m6.6/6.6 MB\u001b[0m \u001b[31m70.7 MB/s\u001b[0m eta \u001b[36m0:00:00\u001b[0m\n",
            "\u001b[?25hCollecting markdown>=2.6.8\n",
            "  Downloading Markdown-3.4.1-py3-none-any.whl (93 kB)\n",
            "\u001b[2K     \u001b[90m━━━━━━━━━━━━━━━━━━━━━━━━━━━━━━━━━━━━━━━━\u001b[0m \u001b[32m93.3/93.3 kB\u001b[0m \u001b[31m12.4 MB/s\u001b[0m eta \u001b[36m0:00:00\u001b[0m\n",
            "\u001b[?25hCollecting six>=1.9.0\n",
            "  Downloading six-1.16.0-py2.py3-none-any.whl (11 kB)\n",
            "Collecting rsa<5,>=3.1.4\n",
            "  Downloading rsa-4.9-py3-none-any.whl (34 kB)\n",
            "Collecting pyasn1-modules>=0.2.1\n",
            "  Downloading pyasn1_modules-0.2.8-py2.py3-none-any.whl (155 kB)\n",
            "\u001b[2K     \u001b[90m━━━━━━━━━━━━━━━━━━━━━━━━━━━━━━━━━━━━━━\u001b[0m \u001b[32m155.3/155.3 kB\u001b[0m \u001b[31m18.0 MB/s\u001b[0m eta \u001b[36m0:00:00\u001b[0m\n",
            "\u001b[?25hCollecting cachetools<6.0,>=2.0.0\n",
            "  Downloading cachetools-5.3.0-py3-none-any.whl (9.3 kB)\n",
            "Collecting requests-oauthlib>=0.7.0\n",
            "  Downloading requests_oauthlib-1.3.1-py2.py3-none-any.whl (23 kB)\n",
            "Requirement already satisfied: gym-notices>=0.0.4 in /usr/local/lib/python3.8/site-packages (from gym>=0.21.0->mlagents_envs==0.31.0.dev0->mlagents==0.31.0.dev0) (0.0.8)\n",
            "Requirement already satisfied: importlib-metadata>=4.8.0 in /usr/local/lib/python3.8/site-packages (from gym>=0.21.0->mlagents_envs==0.31.0.dev0->mlagents==0.31.0.dev0) (6.0.0)\n",
            "Requirement already satisfied: certifi>=2017.4.17 in /usr/local/lib/python3.8/site-packages (from requests->huggingface_hub~=0.8->mlagents==0.31.0.dev0) (2022.9.24)\n",
            "Requirement already satisfied: idna<4,>=2.5 in /usr/local/lib/python3.8/site-packages (from requests->huggingface_hub~=0.8->mlagents==0.31.0.dev0) (3.4)\n",
            "Requirement already satisfied: urllib3<1.27,>=1.21.1 in /usr/local/lib/python3.8/site-packages (from requests->huggingface_hub~=0.8->mlagents==0.31.0.dev0) (1.26.13)\n",
            "Requirement already satisfied: charset-normalizer<3,>=2 in /usr/local/lib/python3.8/site-packages (from requests->huggingface_hub~=0.8->mlagents==0.31.0.dev0) (2.1.1)\n",
            "Collecting MarkupSafe>=2.1.1\n",
            "  Downloading MarkupSafe-2.1.2-cp38-cp38-manylinux_2_17_x86_64.manylinux2014_x86_64.whl (25 kB)\n",
            "Requirement already satisfied: zipp>=0.5 in /usr/local/lib/python3.8/site-packages (from importlib-metadata>=4.8.0->gym>=0.21.0->mlagents_envs==0.31.0.dev0->mlagents==0.31.0.dev0) (3.15.0)\n",
            "Collecting pyasn1<0.5.0,>=0.4.6\n",
            "  Downloading pyasn1-0.4.8-py2.py3-none-any.whl (77 kB)\n",
            "\u001b[2K     \u001b[90m━━━━━━━━━━━━━━━━━━━━━━━━━━━━━━━━━━━━━━━━\u001b[0m \u001b[32m77.1/77.1 kB\u001b[0m \u001b[31m10.5 MB/s\u001b[0m eta \u001b[36m0:00:00\u001b[0m\n",
            "\u001b[?25hCollecting oauthlib>=3.0.0\n",
            "  Downloading oauthlib-3.2.2-py3-none-any.whl (151 kB)\n",
            "\u001b[2K     \u001b[90m━━━━━━━━━━━━━━━━━━━━━━━━━━━━━━━━━━━━━━\u001b[0m \u001b[32m151.7/151.7 kB\u001b[0m \u001b[31m19.8 MB/s\u001b[0m eta \u001b[36m0:00:00\u001b[0m\n",
            "\u001b[?25hBuilding wheels for collected packages: mlagents\n",
            "  Building wheel for mlagents (setup.py) ... \u001b[?25l\u001b[?25hdone\n",
            "  Created wheel for mlagents: filename=mlagents-0.31.0.dev0-py3-none-any.whl size=168659 sha256=5c817f65a842b2af2458f07c88dfcaa7ccfa48828074d6816f53bac6fa092fc2\n",
            "  Stored in directory: /root/.cache/pip/wheels/81/3d/d4/0b95b0cfe90cc8952e64bf97fec9d7a3e66a4ca314a1339371\n",
            "Successfully built mlagents\n",
            "Installing collected packages: tensorboard-plugin-wit, pyasn1, typing-extensions, tqdm, tensorboard-data-server, six, rsa, pyasn1-modules, packaging, oauthlib, MarkupSafe, h5py, cachetools, attrs, absl-py, werkzeug, torch, requests-oauthlib, markdown, huggingface_hub, google-auth, cattrs, google-auth-oauthlib, tensorboard, mlagents\n",
            "Successfully installed MarkupSafe-2.1.2 absl-py-1.4.0 attrs-22.2.0 cachetools-5.3.0 cattrs-1.5.0 google-auth-2.16.1 google-auth-oauthlib-0.4.6 h5py-3.8.0 huggingface_hub-0.12.1 markdown-3.4.1 mlagents-0.31.0.dev0 oauthlib-3.2.2 packaging-23.0 pyasn1-0.4.8 pyasn1-modules-0.2.8 requests-oauthlib-1.3.1 rsa-4.9 six-1.16.0 tensorboard-2.12.0 tensorboard-data-server-0.7.0 tensorboard-plugin-wit-1.8.1 torch-1.8.1 tqdm-4.64.1 typing-extensions-4.5.0 werkzeug-2.2.3\n",
            "\u001b[33mWARNING: Running pip as the 'root' user can result in broken permissions and conflicting behaviour with the system package manager. It is recommended to use a virtual environment instead: https://pip.pypa.io/warnings/venv\u001b[0m\u001b[33m\n",
            "\u001b[0m"
          ]
        },
        {
          "output_type": "display_data",
          "data": {
            "application/vnd.colab-display-data+json": {
              "pip_warning": {
                "packages": [
                  "google"
                ]
              }
            }
          },
          "metadata": {}
        }
      ]
    },
    {
      "cell_type": "markdown",
      "source": [
        "Load [SoccerTwos.zip](https://drive.google.com/file/d/1KuqBKYiXiIcU4kNMqEzhgypuFP5_45CL/view) from local machine.\n",
        "\n"
      ],
      "metadata": {
        "id": "pla6qstvCu-z"
      }
    },
    {
      "cell_type": "code",
      "source": [
        "from google.colab import files\n",
        "uploaded = files.upload()"
      ],
      "metadata": {
        "id": "YBwXzbKfFqt_"
      },
      "execution_count": null,
      "outputs": []
    },
    {
      "cell_type": "code",
      "source": [
        "!wget --load-cookies /tmp/cookies.txt \"https://docs.google.com/uc?export=download&confirm=$(wget --quiet --save-cookies /tmp/cookies.txt --keep-session-cookies --no-check-certificate 'https://docs.google.com/uc?export=download&id=1KuqBKYiXiIcU4kNMqEzhgypuFP5_45CL' -O- | sed -rn 's/.*confirm=([0-9A-Za-z_]+).*/\\1\\n/p')&id=1KuqBKYiXiIcU4kNMqEzhgypuFP5_45CL\" -O ./SoccerTwos.zip && rm -rf /tmp/cookies.txt"
      ],
      "metadata": {
        "colab": {
          "base_uri": "https://localhost:8080/"
        },
        "id": "t9aYGRstHApY",
        "outputId": "c1cf11f4-eca2-466b-a4db-8307c2613c5e"
      },
      "execution_count": 3,
      "outputs": [
        {
          "output_type": "stream",
          "name": "stdout",
          "text": [
            "--2023-02-25 21:39:54--  https://docs.google.com/uc?export=download&confirm=t&id=1KuqBKYiXiIcU4kNMqEzhgypuFP5_45CL\n",
            "Resolving docs.google.com (docs.google.com)... 142.250.148.101, 142.250.148.138, 142.250.148.139, ...\n",
            "Connecting to docs.google.com (docs.google.com)|142.250.148.101|:443... connected.\n",
            "HTTP request sent, awaiting response... 303 See Other\n",
            "Location: https://doc-04-8c-docs.googleusercontent.com/docs/securesc/ha0ro937gcuc7l7deffksulhg5h7mbp1/66mcnn499a28qjupmpiruq5peci4ealg/1677361125000/09764732090272539193/*/1KuqBKYiXiIcU4kNMqEzhgypuFP5_45CL?e=download&uuid=24721da4-0d04-4207-9f1d-d7180fa45b80 [following]\n",
            "Warning: wildcards not supported in HTTP.\n",
            "--2023-02-25 21:39:54--  https://doc-04-8c-docs.googleusercontent.com/docs/securesc/ha0ro937gcuc7l7deffksulhg5h7mbp1/66mcnn499a28qjupmpiruq5peci4ealg/1677361125000/09764732090272539193/*/1KuqBKYiXiIcU4kNMqEzhgypuFP5_45CL?e=download&uuid=24721da4-0d04-4207-9f1d-d7180fa45b80\n",
            "Resolving doc-04-8c-docs.googleusercontent.com (doc-04-8c-docs.googleusercontent.com)... 142.250.1.132, 2607:f8b0:4001:c24::84\n",
            "Connecting to doc-04-8c-docs.googleusercontent.com (doc-04-8c-docs.googleusercontent.com)|142.250.1.132|:443... connected.\n",
            "HTTP request sent, awaiting response... 200 OK\n",
            "Length: 36963480 (35M) [application/x-zip-compressed]\n",
            "Saving to: ‘./SoccerTwos.zip’\n",
            "\n",
            "./SoccerTwos.zip    100%[===================>]  35.25M   145MB/s    in 0.2s    \n",
            "\n",
            "2023-02-25 21:39:55 (145 MB/s) - ‘./SoccerTwos.zip’ saved [36963480/36963480]\n",
            "\n"
          ]
        }
      ]
    },
    {
      "cell_type": "code",
      "source": [
        "!unzip SoccerTwos.zip -d SoccerTwos"
      ],
      "metadata": {
        "id": "k5i0Lm4RCQrQ",
        "colab": {
          "base_uri": "https://localhost:8080/"
        },
        "outputId": "b707c387-85d9-4774-e5c1-0ed999087764"
      },
      "execution_count": 25,
      "outputs": [
        {
          "output_type": "stream",
          "name": "stdout",
          "text": [
            "Archive:  SoccerTwos.zip\n",
            "   creating: SoccerTwos/SoccerTwos_Data/\n",
            "  inflating: SoccerTwos/SoccerTwos_Data/app.info  \n",
            "  inflating: SoccerTwos/SoccerTwos_Data/boot.config  \n",
            "  inflating: SoccerTwos/SoccerTwos_Data/globalgamemanagers  \n",
            "  inflating: SoccerTwos/SoccerTwos_Data/globalgamemanagers.assets  \n",
            "  inflating: SoccerTwos/SoccerTwos_Data/level0  \n",
            "  inflating: SoccerTwos/SoccerTwos_Data/level0.resS  \n",
            "   creating: SoccerTwos/SoccerTwos_Data/Managed/\n",
            "  inflating: SoccerTwos/SoccerTwos_Data/Managed/Assembly-CSharp.dll  \n",
            "  inflating: SoccerTwos/SoccerTwos_Data/Managed/Google.Protobuf.dll  \n",
            "  inflating: SoccerTwos/SoccerTwos_Data/Managed/Grpc.Core.dll  \n",
            "  inflating: SoccerTwos/SoccerTwos_Data/Managed/Mono.Security.dll  \n",
            "  inflating: SoccerTwos/SoccerTwos_Data/Managed/mscorlib.dll  \n",
            "  inflating: SoccerTwos/SoccerTwos_Data/Managed/netstandard.dll  \n",
            "  inflating: SoccerTwos/SoccerTwos_Data/Managed/Newtonsoft.Json.dll  \n",
            "  inflating: SoccerTwos/SoccerTwos_Data/Managed/System.ComponentModel.Composition.dll  \n",
            "  inflating: SoccerTwos/SoccerTwos_Data/Managed/System.Configuration.dll  \n",
            "  inflating: SoccerTwos/SoccerTwos_Data/Managed/System.Core.dll  \n",
            "  inflating: SoccerTwos/SoccerTwos_Data/Managed/System.Data.DataSetExtensions.dll  \n",
            "  inflating: SoccerTwos/SoccerTwos_Data/Managed/System.Data.dll  \n",
            "  inflating: SoccerTwos/SoccerTwos_Data/Managed/System.dll  \n",
            "  inflating: SoccerTwos/SoccerTwos_Data/Managed/System.Drawing.dll  \n",
            "  inflating: SoccerTwos/SoccerTwos_Data/Managed/System.EnterpriseServices.dll  \n",
            "  inflating: SoccerTwos/SoccerTwos_Data/Managed/System.Interactive.Async.dll  \n",
            "  inflating: SoccerTwos/SoccerTwos_Data/Managed/System.IO.Abstractions.dll  \n",
            "  inflating: SoccerTwos/SoccerTwos_Data/Managed/System.IO.Abstractions.TestingHelpers.dll  \n",
            "  inflating: SoccerTwos/SoccerTwos_Data/Managed/System.IO.Compression.dll  \n",
            "  inflating: SoccerTwos/SoccerTwos_Data/Managed/System.IO.Compression.FileSystem.dll  \n",
            "  inflating: SoccerTwos/SoccerTwos_Data/Managed/System.Net.Http.dll  \n",
            "  inflating: SoccerTwos/SoccerTwos_Data/Managed/System.Numerics.dll  \n",
            "  inflating: SoccerTwos/SoccerTwos_Data/Managed/System.Runtime.dll  \n",
            "  inflating: SoccerTwos/SoccerTwos_Data/Managed/System.Runtime.Serialization.dll  \n",
            "  inflating: SoccerTwos/SoccerTwos_Data/Managed/System.Security.dll  \n",
            "  inflating: SoccerTwos/SoccerTwos_Data/Managed/System.ServiceModel.Internals.dll  \n",
            "  inflating: SoccerTwos/SoccerTwos_Data/Managed/System.Transactions.dll  \n",
            "  inflating: SoccerTwos/SoccerTwos_Data/Managed/System.Xml.dll  \n",
            "  inflating: SoccerTwos/SoccerTwos_Data/Managed/System.Xml.Linq.dll  \n",
            "  inflating: SoccerTwos/SoccerTwos_Data/Managed/Unity.Barracuda.BurstBLAS.dll  \n",
            "  inflating: SoccerTwos/SoccerTwos_Data/Managed/Unity.Barracuda.dll  \n",
            "  inflating: SoccerTwos/SoccerTwos_Data/Managed/Unity.Barracuda.ONNX.dll  \n",
            "  inflating: SoccerTwos/SoccerTwos_Data/Managed/Unity.Burst.Cecil.dll  \n",
            "  inflating: SoccerTwos/SoccerTwos_Data/Managed/Unity.Burst.Cecil.Mdb.dll  \n",
            "  inflating: SoccerTwos/SoccerTwos_Data/Managed/Unity.Burst.Cecil.Pdb.dll  \n",
            "  inflating: SoccerTwos/SoccerTwos_Data/Managed/Unity.Burst.Cecil.Rocks.dll  \n",
            "  inflating: SoccerTwos/SoccerTwos_Data/Managed/Unity.Burst.dll  \n",
            "  inflating: SoccerTwos/SoccerTwos_Data/Managed/Unity.Burst.Unsafe.dll  \n",
            "  inflating: SoccerTwos/SoccerTwos_Data/Managed/Unity.InputSystem.dll  \n",
            "  inflating: SoccerTwos/SoccerTwos_Data/Managed/Unity.Mathematics.dll  \n",
            "  inflating: SoccerTwos/SoccerTwos_Data/Managed/Unity.ML-Agents.CommunicatorObjects.dll  \n",
            "  inflating: SoccerTwos/SoccerTwos_Data/Managed/Unity.ML-Agents.dll  \n",
            "  inflating: SoccerTwos/SoccerTwos_Data/Managed/Unity.ML-Agents.Extensions.dll  \n",
            "  inflating: SoccerTwos/SoccerTwos_Data/Managed/Unity.ML-Agents.Extensions.Input.dll  \n",
            "  inflating: SoccerTwos/SoccerTwos_Data/Managed/Unity.TextMeshPro.dll  \n",
            "  inflating: SoccerTwos/SoccerTwos_Data/Managed/UnityEngine.AccessibilityModule.dll  \n",
            "  inflating: SoccerTwos/SoccerTwos_Data/Managed/UnityEngine.AIModule.dll  \n",
            "  inflating: SoccerTwos/SoccerTwos_Data/Managed/UnityEngine.AndroidJNIModule.dll  \n",
            "  inflating: SoccerTwos/SoccerTwos_Data/Managed/UnityEngine.AnimationModule.dll  \n",
            "  inflating: SoccerTwos/SoccerTwos_Data/Managed/UnityEngine.AssetBundleModule.dll  \n",
            "  inflating: SoccerTwos/SoccerTwos_Data/Managed/UnityEngine.AudioModule.dll  \n",
            "  inflating: SoccerTwos/SoccerTwos_Data/Managed/UnityEngine.ClothModule.dll  \n",
            "  inflating: SoccerTwos/SoccerTwos_Data/Managed/UnityEngine.ClusterInputModule.dll  \n",
            "  inflating: SoccerTwos/SoccerTwos_Data/Managed/UnityEngine.ClusterRendererModule.dll  \n",
            "  inflating: SoccerTwos/SoccerTwos_Data/Managed/UnityEngine.CoreModule.dll  \n",
            "  inflating: SoccerTwos/SoccerTwos_Data/Managed/UnityEngine.CrashReportingModule.dll  \n",
            "  inflating: SoccerTwos/SoccerTwos_Data/Managed/UnityEngine.DirectorModule.dll  \n",
            "  inflating: SoccerTwos/SoccerTwos_Data/Managed/UnityEngine.dll  \n",
            "  inflating: SoccerTwos/SoccerTwos_Data/Managed/UnityEngine.DSPGraphModule.dll  \n",
            "  inflating: SoccerTwos/SoccerTwos_Data/Managed/UnityEngine.GameCenterModule.dll  \n",
            "  inflating: SoccerTwos/SoccerTwos_Data/Managed/UnityEngine.GIModule.dll  \n",
            "  inflating: SoccerTwos/SoccerTwos_Data/Managed/UnityEngine.GridModule.dll  \n",
            "  inflating: SoccerTwos/SoccerTwos_Data/Managed/UnityEngine.HotReloadModule.dll  \n",
            "  inflating: SoccerTwos/SoccerTwos_Data/Managed/UnityEngine.ImageConversionModule.dll  \n",
            "  inflating: SoccerTwos/SoccerTwos_Data/Managed/UnityEngine.IMGUIModule.dll  \n",
            "  inflating: SoccerTwos/SoccerTwos_Data/Managed/UnityEngine.InputLegacyModule.dll  \n",
            "  inflating: SoccerTwos/SoccerTwos_Data/Managed/UnityEngine.InputModule.dll  \n",
            "  inflating: SoccerTwos/SoccerTwos_Data/Managed/UnityEngine.JSONSerializeModule.dll  \n",
            "  inflating: SoccerTwos/SoccerTwos_Data/Managed/UnityEngine.LocalizationModule.dll  \n",
            "  inflating: SoccerTwos/SoccerTwos_Data/Managed/UnityEngine.ParticleSystemModule.dll  \n",
            "  inflating: SoccerTwos/SoccerTwos_Data/Managed/UnityEngine.PerformanceReportingModule.dll  \n",
            "  inflating: SoccerTwos/SoccerTwos_Data/Managed/UnityEngine.Physics2DModule.dll  \n",
            "  inflating: SoccerTwos/SoccerTwos_Data/Managed/UnityEngine.PhysicsModule.dll  \n",
            "  inflating: SoccerTwos/SoccerTwos_Data/Managed/UnityEngine.ProfilerModule.dll  \n",
            "  inflating: SoccerTwos/SoccerTwos_Data/Managed/UnityEngine.RuntimeInitializeOnLoadManagerInitializerModule.dll  \n",
            "  inflating: SoccerTwos/SoccerTwos_Data/Managed/UnityEngine.ScreenCaptureModule.dll  \n",
            "  inflating: SoccerTwos/SoccerTwos_Data/Managed/UnityEngine.SharedInternalsModule.dll  \n",
            "  inflating: SoccerTwos/SoccerTwos_Data/Managed/UnityEngine.SpriteMaskModule.dll  \n",
            "  inflating: SoccerTwos/SoccerTwos_Data/Managed/UnityEngine.SpriteShapeModule.dll  \n",
            "  inflating: SoccerTwos/SoccerTwos_Data/Managed/UnityEngine.StreamingModule.dll  \n",
            "  inflating: SoccerTwos/SoccerTwos_Data/Managed/UnityEngine.SubstanceModule.dll  \n",
            "  inflating: SoccerTwos/SoccerTwos_Data/Managed/UnityEngine.SubsystemsModule.dll  \n",
            "  inflating: SoccerTwos/SoccerTwos_Data/Managed/UnityEngine.TerrainModule.dll  \n",
            "  inflating: SoccerTwos/SoccerTwos_Data/Managed/UnityEngine.TerrainPhysicsModule.dll  \n",
            "  inflating: SoccerTwos/SoccerTwos_Data/Managed/UnityEngine.TextCoreFontEngineModule.dll  \n",
            "  inflating: SoccerTwos/SoccerTwos_Data/Managed/UnityEngine.TextCoreTextEngineModule.dll  \n",
            "  inflating: SoccerTwos/SoccerTwos_Data/Managed/UnityEngine.TextRenderingModule.dll  \n",
            "  inflating: SoccerTwos/SoccerTwos_Data/Managed/UnityEngine.TilemapModule.dll  \n",
            "  inflating: SoccerTwos/SoccerTwos_Data/Managed/UnityEngine.TLSModule.dll  \n",
            "  inflating: SoccerTwos/SoccerTwos_Data/Managed/UnityEngine.UI.dll  \n",
            "  inflating: SoccerTwos/SoccerTwos_Data/Managed/UnityEngine.UIElementsModule.dll  \n",
            "  inflating: SoccerTwos/SoccerTwos_Data/Managed/UnityEngine.UIElementsNativeModule.dll  \n",
            "  inflating: SoccerTwos/SoccerTwos_Data/Managed/UnityEngine.UIModule.dll  \n",
            "  inflating: SoccerTwos/SoccerTwos_Data/Managed/UnityEngine.UmbraModule.dll  \n",
            "  inflating: SoccerTwos/SoccerTwos_Data/Managed/UnityEngine.UNETModule.dll  \n",
            "  inflating: SoccerTwos/SoccerTwos_Data/Managed/UnityEngine.UnityAnalyticsCommonModule.dll  \n",
            "  inflating: SoccerTwos/SoccerTwos_Data/Managed/UnityEngine.UnityAnalyticsModule.dll  \n",
            "  inflating: SoccerTwos/SoccerTwos_Data/Managed/UnityEngine.UnityConnectModule.dll  \n",
            "  inflating: SoccerTwos/SoccerTwos_Data/Managed/UnityEngine.UnityCurlModule.dll  \n",
            "  inflating: SoccerTwos/SoccerTwos_Data/Managed/UnityEngine.UnityTestProtocolModule.dll  \n",
            "  inflating: SoccerTwos/SoccerTwos_Data/Managed/UnityEngine.UnityWebRequestAssetBundleModule.dll  \n",
            "  inflating: SoccerTwos/SoccerTwos_Data/Managed/UnityEngine.UnityWebRequestAudioModule.dll  \n",
            "  inflating: SoccerTwos/SoccerTwos_Data/Managed/UnityEngine.UnityWebRequestModule.dll  \n",
            "  inflating: SoccerTwos/SoccerTwos_Data/Managed/UnityEngine.UnityWebRequestTextureModule.dll  \n",
            "  inflating: SoccerTwos/SoccerTwos_Data/Managed/UnityEngine.UnityWebRequestWWWModule.dll  \n",
            "  inflating: SoccerTwos/SoccerTwos_Data/Managed/UnityEngine.VehiclesModule.dll  \n",
            "  inflating: SoccerTwos/SoccerTwos_Data/Managed/UnityEngine.VFXModule.dll  \n",
            "  inflating: SoccerTwos/SoccerTwos_Data/Managed/UnityEngine.VideoModule.dll  \n",
            "  inflating: SoccerTwos/SoccerTwos_Data/Managed/UnityEngine.VirtualTexturingModule.dll  \n",
            "  inflating: SoccerTwos/SoccerTwos_Data/Managed/UnityEngine.VRModule.dll  \n",
            "  inflating: SoccerTwos/SoccerTwos_Data/Managed/UnityEngine.WindModule.dll  \n",
            "  inflating: SoccerTwos/SoccerTwos_Data/Managed/UnityEngine.XRModule.dll  \n",
            "   creating: SoccerTwos/SoccerTwos_Data/MonoBleedingEdge/\n",
            "   creating: SoccerTwos/SoccerTwos_Data/MonoBleedingEdge/etc/\n",
            "  inflating: SoccerTwos/SoccerTwos_Data/MonoBleedingEdge/etc/config  \n",
            "   creating: SoccerTwos/SoccerTwos_Data/MonoBleedingEdge/etc/mono/\n",
            "   creating: SoccerTwos/SoccerTwos_Data/MonoBleedingEdge/etc/mono/2.0/\n",
            "   creating: SoccerTwos/SoccerTwos_Data/MonoBleedingEdge/etc/mono/2.0/Browsers/\n",
            "  inflating: SoccerTwos/SoccerTwos_Data/MonoBleedingEdge/etc/mono/2.0/Browsers/Compat.browser  \n",
            "  inflating: SoccerTwos/SoccerTwos_Data/MonoBleedingEdge/etc/mono/2.0/DefaultWsdlHelpGenerator.aspx  \n",
            "  inflating: SoccerTwos/SoccerTwos_Data/MonoBleedingEdge/etc/mono/2.0/machine.config  \n",
            "  inflating: SoccerTwos/SoccerTwos_Data/MonoBleedingEdge/etc/mono/2.0/settings.map  \n",
            "  inflating: SoccerTwos/SoccerTwos_Data/MonoBleedingEdge/etc/mono/2.0/web.config  \n",
            "   creating: SoccerTwos/SoccerTwos_Data/MonoBleedingEdge/etc/mono/4.0/\n",
            "   creating: SoccerTwos/SoccerTwos_Data/MonoBleedingEdge/etc/mono/4.0/Browsers/\n",
            "  inflating: SoccerTwos/SoccerTwos_Data/MonoBleedingEdge/etc/mono/4.0/Browsers/Compat.browser  \n",
            "  inflating: SoccerTwos/SoccerTwos_Data/MonoBleedingEdge/etc/mono/4.0/DefaultWsdlHelpGenerator.aspx  \n",
            "  inflating: SoccerTwos/SoccerTwos_Data/MonoBleedingEdge/etc/mono/4.0/machine.config  \n",
            "  inflating: SoccerTwos/SoccerTwos_Data/MonoBleedingEdge/etc/mono/4.0/settings.map  \n",
            "  inflating: SoccerTwos/SoccerTwos_Data/MonoBleedingEdge/etc/mono/4.0/web.config  \n",
            "   creating: SoccerTwos/SoccerTwos_Data/MonoBleedingEdge/etc/mono/4.5/\n",
            "   creating: SoccerTwos/SoccerTwos_Data/MonoBleedingEdge/etc/mono/4.5/Browsers/\n",
            "  inflating: SoccerTwos/SoccerTwos_Data/MonoBleedingEdge/etc/mono/4.5/Browsers/Compat.browser  \n",
            "  inflating: SoccerTwos/SoccerTwos_Data/MonoBleedingEdge/etc/mono/4.5/DefaultWsdlHelpGenerator.aspx  \n",
            "  inflating: SoccerTwos/SoccerTwos_Data/MonoBleedingEdge/etc/mono/4.5/machine.config  \n",
            "  inflating: SoccerTwos/SoccerTwos_Data/MonoBleedingEdge/etc/mono/4.5/settings.map  \n",
            "  inflating: SoccerTwos/SoccerTwos_Data/MonoBleedingEdge/etc/mono/4.5/web.config  \n",
            "  inflating: SoccerTwos/SoccerTwos_Data/MonoBleedingEdge/etc/mono/browscap.ini  \n",
            "  inflating: SoccerTwos/SoccerTwos_Data/MonoBleedingEdge/etc/mono/config  \n",
            "   creating: SoccerTwos/SoccerTwos_Data/MonoBleedingEdge/etc/mono/mconfig/\n",
            "  inflating: SoccerTwos/SoccerTwos_Data/MonoBleedingEdge/etc/mono/mconfig/config.xml  \n",
            "   creating: SoccerTwos/SoccerTwos_Data/MonoBleedingEdge/x86_64/\n",
            "  inflating: SoccerTwos/SoccerTwos_Data/MonoBleedingEdge/x86_64/libmono-native.so  \n",
            "  inflating: SoccerTwos/SoccerTwos_Data/MonoBleedingEdge/x86_64/libmonobdwgc-2.0.so  \n",
            "  inflating: SoccerTwos/SoccerTwos_Data/MonoBleedingEdge/x86_64/libMonoPosixHelper.so  \n",
            "   creating: SoccerTwos/SoccerTwos_Data/Plugins/\n",
            "  inflating: SoccerTwos/SoccerTwos_Data/Plugins/libgrpc_csharp_ext.x64.so  \n",
            "  inflating: SoccerTwos/SoccerTwos_Data/Plugins/lib_burst_generated.so  \n",
            "   creating: SoccerTwos/SoccerTwos_Data/Resources/\n",
            "  inflating: SoccerTwos/SoccerTwos_Data/Resources/unity default resources  \n",
            "  inflating: SoccerTwos/SoccerTwos_Data/Resources/UnityPlayer.png  \n",
            "  inflating: SoccerTwos/SoccerTwos_Data/Resources/unity_builtin_extra  \n",
            "  inflating: SoccerTwos/SoccerTwos_Data/resources.assets  \n",
            "  inflating: SoccerTwos/SoccerTwos_Data/resources.assets.resS  \n",
            "  inflating: SoccerTwos/SoccerTwos_Data/RuntimeInitializeOnLoads.json  \n",
            "  inflating: SoccerTwos/SoccerTwos_Data/ScriptingAssemblies.json  \n",
            "  inflating: SoccerTwos/SoccerTwos_Data/sharedassets0.assets  \n",
            "  inflating: SoccerTwos/SoccerTwos_Data/sharedassets0.assets.resS  \n",
            "  inflating: SoccerTwos/SoccerTwos.x86_64  \n",
            "  inflating: SoccerTwos/UnityPlayer.so  \n",
            "   creating: SoccerTwos/SoccerTwos_BurstDebugInformation_DoNotShip/\n",
            "   creating: SoccerTwos/SoccerTwos_BurstDebugInformation_DoNotShip/Data/\n",
            "   creating: SoccerTwos/SoccerTwos_BurstDebugInformation_DoNotShip/Data/Plugins/\n",
            "  inflating: SoccerTwos/SoccerTwos_BurstDebugInformation_DoNotShip/Data/Plugins/lib_burst_generated.txt  \n"
          ]
        }
      ]
    },
    {
      "cell_type": "code",
      "source": [
        "!chmod -R 755 /content/SoccerTwos/SoccerTwos.x86_64"
      ],
      "metadata": {
        "id": "o9qeuf08QJg2"
      },
      "execution_count": 26,
      "outputs": []
    },
    {
      "cell_type": "code",
      "source": [
        "# protobuf was throwing a version error, this fixes the error, and runs slower \n",
        "import os\n",
        "os.environ['PROTOCOL_BUFFERS_PYTHON_IMPLEMENTATION']='python'"
      ],
      "metadata": {
        "id": "PnrZ2sPOPqKI"
      },
      "execution_count": 27,
      "outputs": []
    },
    {
      "cell_type": "code",
      "source": [
        "!mlagents-learn /content/ml-agents/config/poca/SoccerTwos.yaml --env /content/SoccerTwos/SoccerTwos.x86_64 --run-id=\"resnet_v2\" --no-graphics"
      ],
      "metadata": {
        "id": "OHffVc6nDEYG",
        "colab": {
          "base_uri": "https://localhost:8080/"
        },
        "outputId": "151c4aff-180b-4cf5-a6f7-7d6960660652"
      },
      "execution_count": null,
      "outputs": [
        {
          "output_type": "stream",
          "name": "stdout",
          "text": [
            "\n",
            "            ┐  ╖\n",
            "        ╓╖╬│╡  ││╬╖╖\n",
            "    ╓╖╬│││││┘  ╬│││││╬╖\n",
            " ╖╬│││││╬╜        ╙╬│││││╖╖                               ╗╗╗\n",
            " ╬╬╬╬╖││╦╖        ╖╬││╗╣╣╣╬      ╟╣╣╬    ╟╣╣╣             ╜╜╜  ╟╣╣\n",
            " ╬╬╬╬╬╬╬╬╖│╬╖╖╓╬╪│╓╣╣╣╣╣╣╣╬      ╟╣╣╬    ╟╣╣╣ ╒╣╣╖╗╣╣╣╗   ╣╣╣ ╣╣╣╣╣╣ ╟╣╣╖   ╣╣╣\n",
            " ╬╬╬╬┐  ╙╬╬╬╬│╓╣╣╣╝╜  ╫╣╣╣╬      ╟╣╣╬    ╟╣╣╣ ╟╣╣╣╙ ╙╣╣╣  ╣╣╣ ╙╟╣╣╜╙  ╫╣╣  ╟╣╣\n",
            " ╬╬╬╬┐     ╙╬╬╣╣      ╫╣╣╣╬      ╟╣╣╬    ╟╣╣╣ ╟╣╣╬   ╣╣╣  ╣╣╣  ╟╣╣     ╣╣╣┌╣╣╜\n",
            " ╬╬╬╜       ╬╬╣╣      ╙╝╣╣╬      ╙╣╣╣╗╖╓╗╣╣╣╜ ╟╣╣╬   ╣╣╣  ╣╣╣  ╟╣╣╦╓    ╣╣╣╣╣\n",
            " ╙   ╓╦╖    ╬╬╣╣   ╓╗╗╖            ╙╝╣╣╣╣╝╜   ╘╝╝╜   ╝╝╝  ╝╝╝   ╙╣╣╣    ╟╣╣╣\n",
            "   ╩╬╬╬╬╬╬╦╦╬╬╣╣╗╣╣╣╣╣╣╣╝                                             ╫╣╣╣╣\n",
            "      ╙╬╬╬╬╬╬╬╣╣╣╣╣╣╝╜\n",
            "          ╙╬╬╬╣╣╣╜\n",
            "             ╙\n",
            "        \n",
            " Version information:\n",
            "  ml-agents: 0.31.0.dev0,\n",
            "  ml-agents-envs: 0.31.0.dev0,\n",
            "  Communicator API: 1.5.0,\n",
            "  PyTorch: 1.8.1+cu102\n",
            "[INFO] Connected to Unity environment with package version 2.3.0-exp.3 and communication version 1.5.0\n",
            "[INFO] Connected new brain: SoccerTwos?team=1\n",
            "[INFO] Connected new brain: SoccerTwos?team=0\n",
            "[INFO] Hyperparameters for behavior name SoccerTwos: \n",
            "\ttrainer_type:\tpoca\n",
            "\thyperparameters:\t\n",
            "\t  batch_size:\t4096\n",
            "\t  buffer_size:\t40960\n",
            "\t  learning_rate:\t0.0012\n",
            "\t  beta:\t0.005\n",
            "\t  epsilon:\t0.2\n",
            "\t  lambd:\t0.95\n",
            "\t  num_epoch:\t3\n",
            "\t  learning_rate_schedule:\tlinear\n",
            "\t  beta_schedule:\tlinear\n",
            "\t  epsilon_schedule:\tlinear\n",
            "\tcheckpoint_interval:\t500000\n",
            "\tnetwork_settings:\t\n",
            "\t  normalize:\tFalse\n",
            "\t  hidden_units:\t512\n",
            "\t  num_layers:\t2\n",
            "\t  vis_encode_type:\tresnet\n",
            "\t  memory:\tNone\n",
            "\t  goal_conditioning_type:\thyper\n",
            "\t  deterministic:\tFalse\n",
            "\treward_signals:\t\n",
            "\t  extrinsic:\t\n",
            "\t    gamma:\t0.99\n",
            "\t    strength:\t1.0\n",
            "\t    network_settings:\t\n",
            "\t      normalize:\tFalse\n",
            "\t      hidden_units:\t128\n",
            "\t      num_layers:\t2\n",
            "\t      vis_encode_type:\tsimple\n",
            "\t      memory:\tNone\n",
            "\t      goal_conditioning_type:\thyper\n",
            "\t      deterministic:\tFalse\n",
            "\tinit_path:\tNone\n",
            "\tkeep_checkpoints:\t20\n",
            "\teven_checkpoints:\tFalse\n",
            "\tmax_steps:\t50000000\n",
            "\ttime_horizon:\t1000\n",
            "\tsummary_freq:\t10000\n",
            "\tthreaded:\tFalse\n",
            "\tself_play:\t\n",
            "\t  save_steps:\t50000\n",
            "\t  team_change:\t200000\n",
            "\t  swap_steps:\t2000\n",
            "\t  window:\t10\n",
            "\t  play_against_latest_model_ratio:\t0.5\n",
            "\t  initial_elo:\t1200.0\n",
            "\tbehavioral_cloning:\tNone\n"
          ]
        }
      ]
    },
    {
      "cell_type": "code",
      "source": [
        "import yaml\n",
        "\n",
        "with open(\"/content/ml-agents/config/poca/SoccerTwos.yaml\", 'r') as f:\n",
        "    data_loaded = yaml.safe_load(f)\n",
        "    print(data_loaded)"
      ],
      "metadata": {
        "colab": {
          "base_uri": "https://localhost:8080/"
        },
        "id": "-sYDtGgdIbQR",
        "outputId": "45c8c485-5aaf-4958-895d-d710d4e73af4"
      },
      "execution_count": 23,
      "outputs": [
        {
          "output_type": "stream",
          "name": "stdout",
          "text": [
            "{'behaviors': {'SoccerTwos': {'hyperparameters': {'batch_size': 4096, 'beta': 0.005, 'beta_schedule': 'linear', 'buffer_size': 40960, 'epsilon': 0.2, 'epsilon_schedule': 'linear', 'lambd': 0.95, 'learning_rate': 0.0012, 'learning_rate_schedule': 'linear', 'num_epoch': 3}, 'keep_checkpoints': 20, 'max_steps': 50000000, 'network_settings': {'hidden_units': 512, 'normalize': False, 'num_layers': 2, 'vis_encode_type': 'resnet'}, 'reward_signals': {'extrinsic': {'gamma': 0.99, 'strength': 1.0}}, 'self_play': {'initial_elo': 1200.0, 'play_against_latest_model_ratio': 0.5, 'save_steps': 50000, 'swap_steps': 2000, 'team_change': 200000, 'window': 10}, 'summary_freq': 10000, 'time_horizon': 1000, 'trainer_type': 'poca'}}}\n"
          ]
        }
      ]
    },
    {
      "cell_type": "code",
      "source": [
        "ls ml-agents"
      ],
      "metadata": {
        "colab": {
          "base_uri": "https://localhost:8080/"
        },
        "id": "ohIqkvHcipP8",
        "outputId": "b39a1791-1556-4e40-e1c6-60ff4ba5a883"
      },
      "execution_count": 10,
      "outputs": [
        {
          "output_type": "stream",
          "name": "stdout",
          "text": [
            "CODE_OF_CONDUCT.md               \u001b[0m\u001b[01;34mml-agents\u001b[0m/\n",
            "\u001b[01;34mcolab\u001b[0m/                           \u001b[01;34mml-agents-envs\u001b[0m/\n",
            "colab_requirements.txt           \u001b[01;34mml-agents-plugin-examples\u001b[0m/\n",
            "\u001b[01;34mcom.unity.ml-agents\u001b[0m/             \u001b[01;34mml-agents-trainer-plugin\u001b[0m/\n",
            "\u001b[01;34mcom.unity.ml-agents.extensions\u001b[0m/  \u001b[01;34mProject\u001b[0m/\n",
            "\u001b[01;34mconfig\u001b[0m/                          \u001b[01;34mprotobuf-definitions\u001b[0m/\n",
            "conftest.py                      pytest.ini\n",
            "\u001b[01;34mDevProject\u001b[0m/                      setup.cfg\n",
            "Dockerfile                       SURVEY.md\n",
            "\u001b[01;34mdocs\u001b[0m/                            test_constraints_max_version.txt\n",
            "LICENSE.md                       test_constraints_mid_version.txt\n",
            "\u001b[01;34mlocalized_docs\u001b[0m/                  test_constraints_min_version.txt\n",
            "markdown-link-check.fast.json    test_requirements.txt\n",
            "markdown-link-check.full.json    \u001b[01;34munity-volume\u001b[0m/\n",
            "mkdocs.yml                       \u001b[01;34mutils\u001b[0m/\n"
          ]
        }
      ]
    },
    {
      "cell_type": "markdown",
      "source": [],
      "metadata": {
        "id": "9oxXcAclj_uq"
      }
    },
    {
      "cell_type": "code",
      "source": [
        "data_loaded['behaviors']['SoccerTwos']['hyperparameters']['batch_size'] = 4096\n",
        "data_loaded['behaviors']['SoccerTwos']['hyperparameters']['buffer_size'] = 40960\n",
        "data_loaded['behaviors']['SoccerTwos']['hyperparameters']['learning_rate'] = 0.0012\n",
        "data_loaded['behaviors']['SoccerTwos']['hyperparameters']['learning_rate_schedule'] = 'linear'\n",
        "data_loaded['behaviors']['SoccerTwos']['hyperparameters']['beta_schedule'] = 'linear'\n",
        "data_loaded['behaviors']['SoccerTwos']['hyperparameters']['epsilon_schedule'] = 'linear'\n",
        "data_loaded['behaviors']['SoccerTwos']['network_settings']['vis_encode_type'] = 'resnet'\n",
        "data_loaded['behaviors']['SoccerTwos']['keep_checkpoints'] = 20"
      ],
      "metadata": {
        "id": "4xs5kckYIfYw"
      },
      "execution_count": 21,
      "outputs": []
    },
    {
      "cell_type": "code",
      "source": [
        "with open(\"/content/ml-agents/config/poca/SoccerTwos.yaml\", 'w') as outfile:\n",
        "    yaml.dump(data_loaded, outfile, default_flow_style=False)"
      ],
      "metadata": {
        "id": "aNLaBRzEIkz_"
      },
      "execution_count": 22,
      "outputs": []
    }
  ]
}